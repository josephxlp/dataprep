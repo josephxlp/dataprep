{
 "cells": [
  {
   "cell_type": "code",
   "execution_count": 1,
   "id": "c3ec9d24",
   "metadata": {},
   "outputs": [],
   "source": [
    "import os\n",
    "from glob import glob\n",
    "import subprocess\n",
    "\n",
    "epsg = \"4326\" "
   ]
  },
  {
   "cell_type": "code",
   "execution_count": 8,
   "id": "1cb82e07",
   "metadata": {},
   "outputs": [],
   "source": [
    "\n",
    "def reproject_raster(input_raster, output_raster, res=0.0001111111111111111164, \n",
    "                     epsg_code=\"4749\", resampling_method=\"near\", overwrite=True):\n",
    "   \n",
    "    command = [\n",
    "        \"gdalwarp\",\n",
    "        \"-t_srs\", f\"EPSG:{epsg_code}\",\n",
    "        \"-r\", resampling_method,\n",
    "        \"-tr\", str(res), str(res),\n",
    "    ]\n",
    "    \n",
    "    if overwrite:\n",
    "        command.append(\"-overwrite\")\n",
    "    \n",
    "    command.extend([input_raster, output_raster])\n",
    "\n",
    "    try:\n",
    "        subprocess.run(command, check=True)\n",
    "        print(f\"[SUCCESS] Reprojection completed: {output_raster}\")\n",
    "    except subprocess.CalledProcessError as e:\n",
    "        print(f\"[ERROR] Reprojection failed: {e}\")\n",
    "    except FileNotFoundError:\n",
    "        print(\"[ERROR] 'gdalwarp' command not found. Make sure GDAL is installed and in your PATH.\")\n",
    "\n"
   ]
  },
  {
   "cell_type": "code",
   "execution_count": null,
   "id": "905ac7e1",
   "metadata": {},
   "outputs": [],
   "source": [
    "tls_fn = \"/media/ljp238/12TBWolf/ARCHIEVE/LIDAR_DTM/data/AngorW/TLSLidarDEM/AngkorDTM50cm.tif\"\n",
    "mkd_fn = \"/media/ljp238/12TBWolf/ARCHIEVE/LIDAR_DTM/data/Mekong/delta_s_m2070.tif\"\n",
    "rgn_files = glob(\"/media/ljp238/12TBWolf/ARCHIEVE/LIDAR_DTM/data/RNG_Transects/*.tif\")\n",
    "outdir4326 = \"/media/ljp238/12TBWolf/ARCHIEVE/LIDAR_DTM/reproj4326\" #\n",
    "outdir4749 =  \"/media/ljp238/12TBWolf/ARCHIEVE/LIDAR_DTM/reproj4749\"  "
   ]
  },
  {
   "cell_type": "code",
   "execution_count": 10,
   "id": "dffa6ae8",
   "metadata": {},
   "outputs": [],
   "source": [
    "import os\n",
    "from concurrent.futures import ProcessPoolExecutor, as_completed\n",
    "\n",
    "def process_file(fi, outdir, epsg):\n",
    "    os.makedirs(outdir, exist_ok=True)\n",
    "    fn = os.path.basename(fi)\n",
    "    out_fn = os.path.join(outdir, fn)\n",
    "    if not os.path.exists(out_fn):\n",
    "        reproject_raster(fi, out_fn, epsg_code=epsg)\n",
    "    else:\n",
    "        print(f\"File already exists: {out_fn}\")\n",
    "\n",
    "def parallel_process(tif_files, outdir, epsg):\n",
    "    with ProcessPoolExecutor() as executor:\n",
    "        futures = [executor.submit(process_file, fi, outdir, epsg) for fi in tif_files]\n",
    "        for future in as_completed(futures):\n",
    "            future.result()  # Optional, to catch exceptions if any\n",
    "\n"
   ]
  },
  {
   "cell_type": "code",
   "execution_count": 11,
   "id": "1e7c3e18",
   "metadata": {},
   "outputs": [],
   "source": [
    "tif_files = [tls_fn, mkd_fn] + rgn_files"
   ]
  },
  {
   "cell_type": "code",
   "execution_count": null,
   "id": "9ae4e079",
   "metadata": {},
   "outputs": [],
   "source": [
    "parallel_process(tif_files=tif_files, outdir=outdir4326, epsg=\"4326\")"
   ]
  },
  {
   "cell_type": "code",
   "execution_count": null,
   "id": "9509de56",
   "metadata": {},
   "outputs": [],
   "source": [
    "\n",
    "parallel_process(tif_files=tif_files, outdir=outdir4749, epsg=\"4749\")"
   ]
  },
  {
   "cell_type": "code",
   "execution_count": null,
   "id": "1ebf3b8e",
   "metadata": {},
   "outputs": [],
   "source": []
  }
 ],
 "metadata": {
  "kernelspec": {
   "display_name": "agluon",
   "language": "python",
   "name": "python3"
  },
  "language_info": {
   "codemirror_mode": {
    "name": "ipython",
    "version": 3
   },
   "file_extension": ".py",
   "mimetype": "text/x-python",
   "name": "python",
   "nbconvert_exporter": "python",
   "pygments_lexer": "ipython3",
   "version": "3.11.11"
  }
 },
 "nbformat": 4,
 "nbformat_minor": 5
}
