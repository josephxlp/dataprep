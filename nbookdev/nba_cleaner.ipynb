{
 "cells": [
  {
   "cell_type": "code",
   "execution_count": 15,
   "id": "135b99b6",
   "metadata": {},
   "outputs": [],
   "source": [
    "from glob import glob \n",
    "import os \n",
    "#from dataprep.config import uvars"
   ]
  },
  {
   "cell_type": "code",
   "execution_count": 9,
   "id": "c48cb1da",
   "metadata": {},
   "outputs": [
    {
     "name": "stdout",
     "output_type": "stream",
     "text": [
      "No files found.\n"
     ]
    }
   ],
   "source": [
    "pattern = \"*_ldem.tif\"\n",
    "#pattern = \"*_ds.yaml\"\n",
    "files = glob(f\"/media/ljp238/12TBWolf/BRCHIEVE/TILES12/*/{pattern}\")\n",
    "if len(files) > 0:\n",
    "    print(\"Found files:\")\n",
    "    for file in files:\n",
    "        print(file)\n",
    "        os.remove(file)\n",
    "        print(\"Files removed.\")\n",
    "else:\n",
    "    print(\"No files found.\")\n",
    "    exit(1)"
   ]
  },
  {
   "cell_type": "code",
   "execution_count": null,
   "id": "01c0bd71",
   "metadata": {},
   "outputs": [],
   "source": []
  }
 ],
 "metadata": {
  "kernelspec": {
   "display_name": "agluon",
   "language": "python",
   "name": "python3"
  },
  "language_info": {
   "codemirror_mode": {
    "name": "ipython",
    "version": 3
   },
   "file_extension": ".py",
   "mimetype": "text/x-python",
   "name": "python",
   "nbconvert_exporter": "python",
   "pygments_lexer": "ipython3",
   "version": "3.11.11"
  }
 },
 "nbformat": 4,
 "nbformat_minor": 5
}
