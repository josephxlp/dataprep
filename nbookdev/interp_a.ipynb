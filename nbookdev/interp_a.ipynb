{
 "cells": [
  {
   "cell_type": "code",
   "execution_count": 1,
   "metadata": {},
   "outputs": [],
   "source": [
    "import rasterio\n",
    "import numpy as np "
   ]
  },
  {
   "cell_type": "code",
   "execution_count": 2,
   "metadata": {},
   "outputs": [],
   "source": [
    "fn = \"/media/ljp238/12TBWolf/BRCHIEVE/TILES12/N10E105/N10E105_tdem_dem_egm_void.tif\""
   ]
  },
  {
   "cell_type": "code",
   "execution_count": 3,
   "metadata": {},
   "outputs": [],
   "source": [
    "# Read DEM and replace nodata values with NaN\n",
    "def read_dem(dem_path):\n",
    "    with rasterio.open(dem_path) as src:\n",
    "        dem_data = src.read(1)\n",
    "        nodata_value = src.nodata\n",
    "    if nodata_value is not None:\n",
    "        dem_data = dem_data.astype(\"float32\")\n",
    "        dem_data[dem_data == nodata_value] = np.nan\n",
    "        dem_data[dem_data <= -30] = np.nan\n",
    "    return dem_data\n",
    "\n",
    "# Get mask for NaN values\n",
    "def get_null_mask(dem_data):\n",
    "    return np.isnan(dem_data)"
   ]
  },
  {
   "cell_type": "code",
   "execution_count": 5,
   "metadata": {},
   "outputs": [
    {
     "name": "stderr",
     "output_type": "stream",
     "text": [
      "/home/ljp238/miniconda3/envs/agluon/lib/python3.11/site-packages/xgboost/core.py:158: UserWarning: [02:03:09] WARNING: /home/conda/feedstock_root/build_artifacts/xgboost-split_1733179637554/work/src/common/error_msg.cc:45: `gpu_id` is deprecated since2.0.0, use `device` instead. E.g. device=cpu/cuda/cuda:0\n",
      "  warnings.warn(smsg, UserWarning)\n",
      "/home/ljp238/miniconda3/envs/agluon/lib/python3.11/site-packages/xgboost/core.py:158: UserWarning: [02:03:09] WARNING: /home/conda/feedstock_root/build_artifacts/xgboost-split_1733179637554/work/src/common/error_msg.cc:27: The tree method `gpu_hist` is deprecated since 2.0.0. To use GPU training, set the `device` parameter to CUDA instead.\n",
      "\n",
      "    E.g. tree_method = \"hist\", device = \"cuda\"\n",
      "\n",
      "  warnings.warn(smsg, UserWarning)\n",
      "/home/ljp238/miniconda3/envs/agluon/lib/python3.11/site-packages/xgboost/core.py:158: UserWarning: [02:03:09] WARNING: /home/conda/feedstock_root/build_artifacts/xgboost-split_1733179637554/work/src/learner.cc:740: \n",
      "Parameters: { \"predictor\" } are not used.\n",
      "\n",
      "  warnings.warn(smsg, UserWarning)\n"
     ]
    },
    {
     "name": "stdout",
     "output_type": "stream",
     "text": [
      "Finished Training\n"
     ]
    },
    {
     "name": "stderr",
     "output_type": "stream",
     "text": [
      "/home/ljp238/miniconda3/envs/agluon/lib/python3.11/site-packages/xgboost/core.py:158: UserWarning: [02:03:17] WARNING: /home/conda/feedstock_root/build_artifacts/xgboost-split_1733179637554/work/src/common/error_msg.cc:27: The tree method `gpu_hist` is deprecated since 2.0.0. To use GPU training, set the `device` parameter to CUDA instead.\n",
      "\n",
      "    E.g. tree_method = \"hist\", device = \"cuda\"\n",
      "\n",
      "  warnings.warn(smsg, UserWarning)\n"
     ]
    }
   ],
   "source": [
    "import numpy as np\n",
    "import xgboost as xgb\n",
    "\n",
    "# Assuming read_dem and get_null_mask are already defined\n",
    "data = read_dem(fn)  # Read DEM data\n",
    "mask = get_null_mask(data)  # Get mask for null/missing values\n",
    "\n",
    "# Coordinates and values where data is available\n",
    "available_coords = np.array(np.nonzero(~mask)).T  # Coordinates where data is available\n",
    "available_values = data[~mask]  # Values where data is available\n",
    "\n",
    "# Coordinates where data is missing\n",
    "missing_coords = np.array(np.nonzero(mask)).T  # Coordinates where data is missing\n",
    "\n",
    "# Remove NaN values from available data\n",
    "valid_mask = ~np.isnan(available_values)\n",
    "available_coords = available_coords[valid_mask]\n",
    "available_values = available_values[valid_mask]\n",
    "\n",
    "# Convert data to DMatrix (XGBoost's optimized data structure)\n",
    "dtrain = xgb.DMatrix(available_coords, label=available_values)\n",
    "\n",
    "# Set up XGBoost parameters for GPU\n",
    "params = {\n",
    "    'tree_method': 'gpu_hist',  # Use GPU for histogram-based tree construction\n",
    "    'predictor': 'gpu_predictor',  # Use GPU for prediction\n",
    "    'objective': 'reg:squarederror',  # Regression task with squared error\n",
    "    'eval_metric': 'rmse',  # Root Mean Squared Error for evaluation\n",
    "    'gpu_id': 0  # Use the first GPU (if you have multiple GPUs)\n",
    "}\n",
    "\n",
    "# Train the XGBoost model\n",
    "model = xgb.train(params, dtrain, num_boost_round=100)  # Adjust num_boost_round as needed\n",
    "print(\"Finished Training\")\n",
    "\n",
    "# Predict missing values\n",
    "dtest = xgb.DMatrix(missing_coords)\n",
    "predicted_values = model.predict(dtest)\n",
    "\n",
    "# Fill the missing values in the original data\n",
    "data[mask] = predicted_values\n",
    "\n",
    "# Now `data` contains the original values plus the predicted values for the missing parts"
   ]
  },
  {
   "cell_type": "code",
   "execution_count": 7,
   "metadata": {},
   "outputs": [],
   "source": [
    "import numpy as np\n",
    "import xgboost as xgb\n",
    "import rasterio\n",
    "\n",
    "def fill_missing_values_with_xgboost(fn, output_fn='filled_dem.tif', num_boost_round=100):\n",
    "    \"\"\"\n",
    "    Fills missing values in a raster using XGBoost with GPU support and writes the result to a new file.\n",
    "\n",
    "    Parameters:\n",
    "        fn (str): Path to the input raster file.\n",
    "        output_fn (str): Path to the output raster file (default: 'filled_dem.tif').\n",
    "        num_boost_round (int): Number of boosting rounds for XGBoost (default: 100).\n",
    "\n",
    "    Returns:\n",
    "        None\n",
    "    \"\"\"\n",
    "    # Read the original raster data and metadata\n",
    "    with rasterio.open(fn) as src:\n",
    "        data = src.read(1)  # Read the first band\n",
    "        meta = src.meta\n",
    "\n",
    "    # Get mask for null/missing values\n",
    "    mask = np.isnan(data)  # Assuming missing values are NaN\n",
    "\n",
    "    # Coordinates and values where data is available\n",
    "    available_coords = np.array(np.nonzero(~mask)).T  # Coordinates where data is available\n",
    "    available_values = data[~mask]  # Values where data is available\n",
    "\n",
    "    # Coordinates where data is missing\n",
    "    missing_coords = np.array(np.nonzero(mask)).T  # Coordinates where data is missing\n",
    "\n",
    "    # Remove NaN values from available data (if any)\n",
    "    valid_mask = ~np.isnan(available_values)\n",
    "    available_coords = available_coords[valid_mask]\n",
    "    available_values = available_values[valid_mask]\n",
    "\n",
    "    # Convert data to DMatrix (XGBoost's optimized data structure)\n",
    "    dtrain = xgb.DMatrix(available_coords, label=available_values)\n",
    "\n",
    "    # Set up XGBoost parameters for GPU\n",
    "    params = {\n",
    "        'tree_method': 'gpu_hist',  # Use GPU for histogram-based tree construction\n",
    "        'predictor': 'gpu_predictor',  # Use GPU for prediction\n",
    "        'objective': 'reg:squarederror',  # Regression task with squared error\n",
    "        'eval_metric': 'rmse',  # Root Mean Squared Error for evaluation\n",
    "        'gpu_id': 0  # Use the first GPU (if you have multiple GPUs)\n",
    "    }\n",
    "\n",
    "    # Train the XGBoost model\n",
    "    model = xgb.train(params, dtrain, num_boost_round=num_boost_round)\n",
    "    print(\"Finished Training\")\n",
    "\n",
    "    # Predict missing values\n",
    "    dtest = xgb.DMatrix(missing_coords)\n",
    "    predicted_values = model.predict(dtest)\n",
    "\n",
    "    # Fill the missing values in the original data\n",
    "    data[mask] = predicted_values\n",
    "\n",
    "    # Update the metadata to reflect the new data\n",
    "    meta.update(dtype=data.dtype, count=1)\n",
    "\n",
    "    # Write the filled data to a new file\n",
    "    with rasterio.open(output_fn, 'w', **meta) as dst:\n",
    "        dst.write(data, 1)  # Write the filled data to the first band\n",
    "    print(f\"Filled raster saved to {output_fn}\")\n",
    "\n",
    "# # Example usage\n",
    "# fill_missing_values_with_xgboost('input_dem.tif', output_fn='filled_dem.tif')"
   ]
  },
  {
   "cell_type": "code",
   "execution_count": 26,
   "metadata": {},
   "outputs": [],
   "source": [
    "import numpy as np\n",
    "import xgboost as xgb\n",
    "import rasterio\n",
    "import os\n",
    "\n",
    "def fill_missing_values_with_xgboost(fn, output_fn='filled_dem.tif', model_fn='xgboost_model.model', num_boost_round=100):\n",
    "    \"\"\"\n",
    "    Fills missing values in a raster using XGBoost with GPU support and writes the result to a new file.\n",
    "    Saves the trained model to disk for reuse. Skips processing if the output file already exists.\n",
    "\n",
    "    Parameters:\n",
    "        fn (str): Path to the input raster file.\n",
    "        output_fn (str): Path to the output raster file (default: 'filled_dem.tif').\n",
    "        model_fn (str): Path to save/load the XGBoost model (default: 'xgboost_model.model').\n",
    "        num_boost_round (int): Number of boosting rounds for XGBoost (default: 100).\n",
    "\n",
    "    Returns:\n",
    "        None\n",
    "    \"\"\"\n",
    "    #model_fn = model_fn.replace('.model', f'_{num_boost_round}.model')\n",
    "    print(model_fn)\n",
    "    # Check if the output file already exists\n",
    "    if os.path.exists(output_fn):\n",
    "        print(f\"Output file {output_fn} already exists. Skipping processing.\")\n",
    "        return\n",
    "\n",
    "    # Check if the model already exists\n",
    "    if os.path.exists(model_fn):\n",
    "        print(f\"Model file {model_fn} found. Loading model...\")\n",
    "        model = xgb.Booster()\n",
    "        model.load_model(model_fn)\n",
    "        print(\"Model loaded.\")\n",
    "    else:\n",
    "        # Read the original raster data and metadata\n",
    "        with rasterio.open(fn) as src:\n",
    "            data = src.read(1)  # Read the first band\n",
    "            meta = src.meta\n",
    "\n",
    "        # Get mask for null/missing values\n",
    "        mask = np.isnan(data)  # Assuming missing values are NaN\n",
    "\n",
    "        # Coordinates and values where data is available\n",
    "        available_coords = np.array(np.nonzero(~mask)).T  # Coordinates where data is available\n",
    "        available_values = data[~mask]  # Values where data is available\n",
    "\n",
    "        # Coordinates where data is missing\n",
    "        missing_coords = np.array(np.nonzero(mask)).T  # Coordinates where data is missing\n",
    "\n",
    "        # Remove NaN values from available data (if any)\n",
    "        valid_mask = ~np.isnan(available_values)\n",
    "        available_coords = available_coords[valid_mask]\n",
    "        available_values = available_values[valid_mask]\n",
    "\n",
    "        # Convert data to DMatrix (XGBoost's optimized data structure)\n",
    "        dtrain = xgb.DMatrix(available_coords, label=available_values)\n",
    "\n",
    "        # Set up XGBoost parameters for GPU\n",
    "        params = {\n",
    "            'tree_method': 'gpu_hist',  # Use GPU for histogram-based tree construction\n",
    "            'predictor': 'gpu_predictor',  # Use GPU for prediction\n",
    "            'objective': 'reg:squarederror',  # Regression task with squared error\n",
    "            'eval_metric': 'rmse',  # Root Mean Squared Error for evaluation\n",
    "            'gpu_id': 0  # Use the first GPU (if you have multiple GPUs)\n",
    "        }\n",
    "\n",
    "        # Train the XGBoost model\n",
    "        print(\"Training model...\")\n",
    "        model = xgb.train(params, dtrain, num_boost_round=num_boost_round)\n",
    "        print(\"Finished Training\")\n",
    "\n",
    "        \n",
    "\n",
    "        # Save the trained model to disk\n",
    "        \n",
    "        model.save_model(model_fn)\n",
    "        print(f\"Model saved to {model_fn}\")\n",
    "\n",
    "    # If the model was loaded, read the original raster data and metadata\n",
    "    if not os.path.exists(output_fn):\n",
    "        with rasterio.open(fn) as src:\n",
    "            data = src.read(1)  # Read the first band\n",
    "            meta = src.meta\n",
    "\n",
    "        # Get mask for null/missing values\n",
    "        mask = np.isnan(data)\n",
    "\n",
    "        # Coordinates where data is missing\n",
    "        missing_coords = np.array(np.nonzero(mask)).T\n",
    "\n",
    "        # Predict missing values\n",
    "        dtest = xgb.DMatrix(missing_coords)\n",
    "        predicted_values = model.predict(dtest)\n",
    "\n",
    "        # Fill the missing values in the original data\n",
    "        data[mask] = predicted_values\n",
    "\n",
    "        # Update the metadata to reflect the new data\n",
    "        meta.update(dtype=data.dtype, count=1)\n",
    "\n",
    "        # Write the filled data to a new file\n",
    "        with rasterio.open(output_fn, 'w', **meta) as dst:\n",
    "            dst.write(data, 1)  # Write the filled data to the first band\n",
    "        print(f\"Filled raster saved to {output_fn}\")\n",
    "\n",
    "# Example usage\n",
    "# fill_missing_values_with_xgboost('input_dem.tif', output_fn='filled_dem.tif', model_fn='xgboost_model.model')"
   ]
  },
  {
   "cell_type": "code",
   "execution_count": null,
   "metadata": {},
   "outputs": [],
   "source": []
  },
  {
   "cell_type": "code",
   "execution_count": 28,
   "metadata": {},
   "outputs": [],
   "source": [
    "from glob import glob"
   ]
  },
  {
   "cell_type": "code",
   "execution_count": 32,
   "metadata": {},
   "outputs": [
    {
     "name": "stdout",
     "output_type": "stream",
     "text": [
      "/media/ljp238/12TBWolf/BRCHIEVE/TILES12/N09E105/N09E105_tdem_dem_egm_vfill5000_xgb.model\n",
      "Training model...\n"
     ]
    },
    {
     "name": "stderr",
     "output_type": "stream",
     "text": [
      "/home/ljp238/miniconda3/envs/agluon/lib/python3.11/site-packages/xgboost/core.py:158: UserWarning: [02:39:09] WARNING: /home/conda/feedstock_root/build_artifacts/xgboost-split_1733179637554/work/src/common/error_msg.cc:27: The tree method `gpu_hist` is deprecated since 2.0.0. To use GPU training, set the `device` parameter to CUDA instead.\n",
      "\n",
      "    E.g. tree_method = \"hist\", device = \"cuda\"\n",
      "\n",
      "  warnings.warn(smsg, UserWarning)\n",
      "/home/ljp238/miniconda3/envs/agluon/lib/python3.11/site-packages/xgboost/core.py:158: UserWarning: [02:39:09] WARNING: /home/conda/feedstock_root/build_artifacts/xgboost-split_1733179637554/work/src/learner.cc:740: \n",
      "Parameters: { \"predictor\" } are not used.\n",
      "\n",
      "  warnings.warn(smsg, UserWarning)\n"
     ]
    },
    {
     "name": "stdout",
     "output_type": "stream",
     "text": [
      "Finished Training\n"
     ]
    },
    {
     "name": "stderr",
     "output_type": "stream",
     "text": [
      "/home/ljp238/miniconda3/envs/agluon/lib/python3.11/site-packages/xgboost/core.py:158: UserWarning: [02:43:12] WARNING: /home/conda/feedstock_root/build_artifacts/xgboost-split_1733179637554/work/src/common/error_msg.cc:27: The tree method `gpu_hist` is deprecated since 2.0.0. To use GPU training, set the `device` parameter to CUDA instead.\n",
      "\n",
      "    E.g. tree_method = \"hist\", device = \"cuda\"\n",
      "\n",
      "  warnings.warn(smsg, UserWarning)\n",
      "/home/ljp238/miniconda3/envs/agluon/lib/python3.11/site-packages/xgboost/core.py:158: UserWarning: [02:43:12] WARNING: /home/conda/feedstock_root/build_artifacts/xgboost-split_1733179637554/work/src/c_api/c_api.cc:1374: Saving model in the UBJSON format as default.  You can use file extension: `json`, `ubj` or `deprecated` to choose between formats.\n",
      "  warnings.warn(smsg, UserWarning)\n"
     ]
    },
    {
     "name": "stdout",
     "output_type": "stream",
     "text": [
      "Model saved to /media/ljp238/12TBWolf/BRCHIEVE/TILES12/N09E105/N09E105_tdem_dem_egm_vfill5000_xgb.model\n",
      "Filled raster saved to /media/ljp238/12TBWolf/BRCHIEVE/TILES12/N09E105/N09E105_tdem_dem_egm_vfill5000.tif\n",
      "/media/ljp238/12TBWolf/BRCHIEVE/TILES12/N09E106/N09E106_tdem_dem_egm_vfill5000_xgb.model\n",
      "Training model...\n"
     ]
    },
    {
     "name": "stderr",
     "output_type": "stream",
     "text": [
      "/home/ljp238/miniconda3/envs/agluon/lib/python3.11/site-packages/xgboost/core.py:158: UserWarning: [02:43:39] WARNING: /home/conda/feedstock_root/build_artifacts/xgboost-split_1733179637554/work/src/common/error_msg.cc:27: The tree method `gpu_hist` is deprecated since 2.0.0. To use GPU training, set the `device` parameter to CUDA instead.\n",
      "\n",
      "    E.g. tree_method = \"hist\", device = \"cuda\"\n",
      "\n",
      "  warnings.warn(smsg, UserWarning)\n",
      "/home/ljp238/miniconda3/envs/agluon/lib/python3.11/site-packages/xgboost/core.py:158: UserWarning: [02:43:39] WARNING: /home/conda/feedstock_root/build_artifacts/xgboost-split_1733179637554/work/src/learner.cc:740: \n",
      "Parameters: { \"predictor\" } are not used.\n",
      "\n",
      "  warnings.warn(smsg, UserWarning)\n"
     ]
    },
    {
     "name": "stdout",
     "output_type": "stream",
     "text": [
      "Finished Training\n"
     ]
    },
    {
     "name": "stderr",
     "output_type": "stream",
     "text": [
      "/home/ljp238/miniconda3/envs/agluon/lib/python3.11/site-packages/xgboost/core.py:158: UserWarning: [02:45:07] WARNING: /home/conda/feedstock_root/build_artifacts/xgboost-split_1733179637554/work/src/common/error_msg.cc:27: The tree method `gpu_hist` is deprecated since 2.0.0. To use GPU training, set the `device` parameter to CUDA instead.\n",
      "\n",
      "    E.g. tree_method = \"hist\", device = \"cuda\"\n",
      "\n",
      "  warnings.warn(smsg, UserWarning)\n",
      "/home/ljp238/miniconda3/envs/agluon/lib/python3.11/site-packages/xgboost/core.py:158: UserWarning: [02:45:07] WARNING: /home/conda/feedstock_root/build_artifacts/xgboost-split_1733179637554/work/src/c_api/c_api.cc:1374: Saving model in the UBJSON format as default.  You can use file extension: `json`, `ubj` or `deprecated` to choose between formats.\n",
      "  warnings.warn(smsg, UserWarning)\n"
     ]
    },
    {
     "name": "stdout",
     "output_type": "stream",
     "text": [
      "Model saved to /media/ljp238/12TBWolf/BRCHIEVE/TILES12/N09E106/N09E106_tdem_dem_egm_vfill5000_xgb.model\n",
      "Filled raster saved to /media/ljp238/12TBWolf/BRCHIEVE/TILES12/N09E106/N09E106_tdem_dem_egm_vfill5000.tif\n",
      "/media/ljp238/12TBWolf/BRCHIEVE/TILES12/N10E104/N10E104_tdem_dem_egm_vfill5000_xgb.model\n",
      "Training model...\n"
     ]
    },
    {
     "name": "stderr",
     "output_type": "stream",
     "text": [
      "/home/ljp238/miniconda3/envs/agluon/lib/python3.11/site-packages/xgboost/core.py:158: UserWarning: [02:45:55] WARNING: /home/conda/feedstock_root/build_artifacts/xgboost-split_1733179637554/work/src/common/error_msg.cc:27: The tree method `gpu_hist` is deprecated since 2.0.0. To use GPU training, set the `device` parameter to CUDA instead.\n",
      "\n",
      "    E.g. tree_method = \"hist\", device = \"cuda\"\n",
      "\n",
      "  warnings.warn(smsg, UserWarning)\n",
      "/home/ljp238/miniconda3/envs/agluon/lib/python3.11/site-packages/xgboost/core.py:158: UserWarning: [02:45:55] WARNING: /home/conda/feedstock_root/build_artifacts/xgboost-split_1733179637554/work/src/learner.cc:740: \n",
      "Parameters: { \"predictor\" } are not used.\n",
      "\n",
      "  warnings.warn(smsg, UserWarning)\n"
     ]
    },
    {
     "name": "stdout",
     "output_type": "stream",
     "text": [
      "Finished Training\n"
     ]
    },
    {
     "name": "stderr",
     "output_type": "stream",
     "text": [
      "/home/ljp238/miniconda3/envs/agluon/lib/python3.11/site-packages/xgboost/core.py:158: UserWarning: [02:49:17] WARNING: /home/conda/feedstock_root/build_artifacts/xgboost-split_1733179637554/work/src/common/error_msg.cc:27: The tree method `gpu_hist` is deprecated since 2.0.0. To use GPU training, set the `device` parameter to CUDA instead.\n",
      "\n",
      "    E.g. tree_method = \"hist\", device = \"cuda\"\n",
      "\n",
      "  warnings.warn(smsg, UserWarning)\n",
      "/home/ljp238/miniconda3/envs/agluon/lib/python3.11/site-packages/xgboost/core.py:158: UserWarning: [02:49:17] WARNING: /home/conda/feedstock_root/build_artifacts/xgboost-split_1733179637554/work/src/c_api/c_api.cc:1374: Saving model in the UBJSON format as default.  You can use file extension: `json`, `ubj` or `deprecated` to choose between formats.\n",
      "  warnings.warn(smsg, UserWarning)\n"
     ]
    },
    {
     "name": "stdout",
     "output_type": "stream",
     "text": [
      "Model saved to /media/ljp238/12TBWolf/BRCHIEVE/TILES12/N10E104/N10E104_tdem_dem_egm_vfill5000_xgb.model\n",
      "Filled raster saved to /media/ljp238/12TBWolf/BRCHIEVE/TILES12/N10E104/N10E104_tdem_dem_egm_vfill5000.tif\n",
      "/media/ljp238/12TBWolf/BRCHIEVE/TILES12/N10E105/N10E105_tdem_dem_egm_vfill5000_xgb.model\n",
      "Output file /media/ljp238/12TBWolf/BRCHIEVE/TILES12/N10E105/N10E105_tdem_dem_egm_vfill5000.tif already exists. Skipping processing.\n",
      "/media/ljp238/12TBWolf/BRCHIEVE/TILES12/N10E106/N10E106_tdem_dem_egm_vfill5000_xgb.model\n",
      "Training model...\n"
     ]
    },
    {
     "name": "stderr",
     "output_type": "stream",
     "text": [
      "/home/ljp238/miniconda3/envs/agluon/lib/python3.11/site-packages/xgboost/core.py:158: UserWarning: [02:49:45] WARNING: /home/conda/feedstock_root/build_artifacts/xgboost-split_1733179637554/work/src/common/error_msg.cc:27: The tree method `gpu_hist` is deprecated since 2.0.0. To use GPU training, set the `device` parameter to CUDA instead.\n",
      "\n",
      "    E.g. tree_method = \"hist\", device = \"cuda\"\n",
      "\n",
      "  warnings.warn(smsg, UserWarning)\n",
      "/home/ljp238/miniconda3/envs/agluon/lib/python3.11/site-packages/xgboost/core.py:158: UserWarning: [02:49:45] WARNING: /home/conda/feedstock_root/build_artifacts/xgboost-split_1733179637554/work/src/learner.cc:740: \n",
      "Parameters: { \"predictor\" } are not used.\n",
      "\n",
      "  warnings.warn(smsg, UserWarning)\n"
     ]
    },
    {
     "name": "stdout",
     "output_type": "stream",
     "text": [
      "Finished Training\n"
     ]
    },
    {
     "name": "stderr",
     "output_type": "stream",
     "text": [
      "/home/ljp238/miniconda3/envs/agluon/lib/python3.11/site-packages/xgboost/core.py:158: UserWarning: [02:53:31] WARNING: /home/conda/feedstock_root/build_artifacts/xgboost-split_1733179637554/work/src/common/error_msg.cc:27: The tree method `gpu_hist` is deprecated since 2.0.0. To use GPU training, set the `device` parameter to CUDA instead.\n",
      "\n",
      "    E.g. tree_method = \"hist\", device = \"cuda\"\n",
      "\n",
      "  warnings.warn(smsg, UserWarning)\n",
      "/home/ljp238/miniconda3/envs/agluon/lib/python3.11/site-packages/xgboost/core.py:158: UserWarning: [02:53:31] WARNING: /home/conda/feedstock_root/build_artifacts/xgboost-split_1733179637554/work/src/c_api/c_api.cc:1374: Saving model in the UBJSON format as default.  You can use file extension: `json`, `ubj` or `deprecated` to choose between formats.\n",
      "  warnings.warn(smsg, UserWarning)\n"
     ]
    },
    {
     "name": "stdout",
     "output_type": "stream",
     "text": [
      "Model saved to /media/ljp238/12TBWolf/BRCHIEVE/TILES12/N10E106/N10E106_tdem_dem_egm_vfill5000_xgb.model\n",
      "Filled raster saved to /media/ljp238/12TBWolf/BRCHIEVE/TILES12/N10E106/N10E106_tdem_dem_egm_vfill5000.tif\n",
      "/media/ljp238/12TBWolf/BRCHIEVE/TILES12/N11E104/N11E104_tdem_dem_egm_vfill5000_xgb.model\n",
      "Training model...\n"
     ]
    },
    {
     "name": "stderr",
     "output_type": "stream",
     "text": [
      "/home/ljp238/miniconda3/envs/agluon/lib/python3.11/site-packages/xgboost/core.py:158: UserWarning: [02:53:57] WARNING: /home/conda/feedstock_root/build_artifacts/xgboost-split_1733179637554/work/src/common/error_msg.cc:27: The tree method `gpu_hist` is deprecated since 2.0.0. To use GPU training, set the `device` parameter to CUDA instead.\n",
      "\n",
      "    E.g. tree_method = \"hist\", device = \"cuda\"\n",
      "\n",
      "  warnings.warn(smsg, UserWarning)\n",
      "/home/ljp238/miniconda3/envs/agluon/lib/python3.11/site-packages/xgboost/core.py:158: UserWarning: [02:53:57] WARNING: /home/conda/feedstock_root/build_artifacts/xgboost-split_1733179637554/work/src/learner.cc:740: \n",
      "Parameters: { \"predictor\" } are not used.\n",
      "\n",
      "  warnings.warn(smsg, UserWarning)\n"
     ]
    },
    {
     "name": "stdout",
     "output_type": "stream",
     "text": [
      "Finished Training\n"
     ]
    },
    {
     "name": "stderr",
     "output_type": "stream",
     "text": [
      "/home/ljp238/miniconda3/envs/agluon/lib/python3.11/site-packages/xgboost/core.py:158: UserWarning: [02:58:52] WARNING: /home/conda/feedstock_root/build_artifacts/xgboost-split_1733179637554/work/src/common/error_msg.cc:27: The tree method `gpu_hist` is deprecated since 2.0.0. To use GPU training, set the `device` parameter to CUDA instead.\n",
      "\n",
      "    E.g. tree_method = \"hist\", device = \"cuda\"\n",
      "\n",
      "  warnings.warn(smsg, UserWarning)\n",
      "/home/ljp238/miniconda3/envs/agluon/lib/python3.11/site-packages/xgboost/core.py:158: UserWarning: [02:58:52] WARNING: /home/conda/feedstock_root/build_artifacts/xgboost-split_1733179637554/work/src/c_api/c_api.cc:1374: Saving model in the UBJSON format as default.  You can use file extension: `json`, `ubj` or `deprecated` to choose between formats.\n",
      "  warnings.warn(smsg, UserWarning)\n"
     ]
    },
    {
     "name": "stdout",
     "output_type": "stream",
     "text": [
      "Model saved to /media/ljp238/12TBWolf/BRCHIEVE/TILES12/N11E104/N11E104_tdem_dem_egm_vfill5000_xgb.model\n",
      "Filled raster saved to /media/ljp238/12TBWolf/BRCHIEVE/TILES12/N11E104/N11E104_tdem_dem_egm_vfill5000.tif\n",
      "/media/ljp238/12TBWolf/BRCHIEVE/TILES12/N11E105/N11E105_tdem_dem_egm_vfill5000_xgb.model\n",
      "Training model...\n"
     ]
    },
    {
     "name": "stderr",
     "output_type": "stream",
     "text": [
      "/home/ljp238/miniconda3/envs/agluon/lib/python3.11/site-packages/xgboost/core.py:158: UserWarning: [02:59:09] WARNING: /home/conda/feedstock_root/build_artifacts/xgboost-split_1733179637554/work/src/common/error_msg.cc:27: The tree method `gpu_hist` is deprecated since 2.0.0. To use GPU training, set the `device` parameter to CUDA instead.\n",
      "\n",
      "    E.g. tree_method = \"hist\", device = \"cuda\"\n",
      "\n",
      "  warnings.warn(smsg, UserWarning)\n",
      "/home/ljp238/miniconda3/envs/agluon/lib/python3.11/site-packages/xgboost/core.py:158: UserWarning: [02:59:09] WARNING: /home/conda/feedstock_root/build_artifacts/xgboost-split_1733179637554/work/src/learner.cc:740: \n",
      "Parameters: { \"predictor\" } are not used.\n",
      "\n",
      "  warnings.warn(smsg, UserWarning)\n"
     ]
    },
    {
     "name": "stdout",
     "output_type": "stream",
     "text": [
      "Finished Training\n"
     ]
    },
    {
     "name": "stderr",
     "output_type": "stream",
     "text": [
      "/home/ljp238/miniconda3/envs/agluon/lib/python3.11/site-packages/xgboost/core.py:158: UserWarning: [03:03:23] WARNING: /home/conda/feedstock_root/build_artifacts/xgboost-split_1733179637554/work/src/common/error_msg.cc:27: The tree method `gpu_hist` is deprecated since 2.0.0. To use GPU training, set the `device` parameter to CUDA instead.\n",
      "\n",
      "    E.g. tree_method = \"hist\", device = \"cuda\"\n",
      "\n",
      "  warnings.warn(smsg, UserWarning)\n",
      "/home/ljp238/miniconda3/envs/agluon/lib/python3.11/site-packages/xgboost/core.py:158: UserWarning: [03:03:23] WARNING: /home/conda/feedstock_root/build_artifacts/xgboost-split_1733179637554/work/src/c_api/c_api.cc:1374: Saving model in the UBJSON format as default.  You can use file extension: `json`, `ubj` or `deprecated` to choose between formats.\n",
      "  warnings.warn(smsg, UserWarning)\n"
     ]
    },
    {
     "name": "stdout",
     "output_type": "stream",
     "text": [
      "Model saved to /media/ljp238/12TBWolf/BRCHIEVE/TILES12/N11E105/N11E105_tdem_dem_egm_vfill5000_xgb.model\n",
      "Filled raster saved to /media/ljp238/12TBWolf/BRCHIEVE/TILES12/N11E105/N11E105_tdem_dem_egm_vfill5000.tif\n",
      "/media/ljp238/12TBWolf/BRCHIEVE/TILES12/N12E103/N12E103_tdem_dem_egm_vfill5000_xgb.model\n",
      "Training model...\n"
     ]
    },
    {
     "name": "stderr",
     "output_type": "stream",
     "text": [
      "/home/ljp238/miniconda3/envs/agluon/lib/python3.11/site-packages/xgboost/core.py:158: UserWarning: [03:03:44] WARNING: /home/conda/feedstock_root/build_artifacts/xgboost-split_1733179637554/work/src/common/error_msg.cc:27: The tree method `gpu_hist` is deprecated since 2.0.0. To use GPU training, set the `device` parameter to CUDA instead.\n",
      "\n",
      "    E.g. tree_method = \"hist\", device = \"cuda\"\n",
      "\n",
      "  warnings.warn(smsg, UserWarning)\n",
      "/home/ljp238/miniconda3/envs/agluon/lib/python3.11/site-packages/xgboost/core.py:158: UserWarning: [03:03:44] WARNING: /home/conda/feedstock_root/build_artifacts/xgboost-split_1733179637554/work/src/learner.cc:740: \n",
      "Parameters: { \"predictor\" } are not used.\n",
      "\n",
      "  warnings.warn(smsg, UserWarning)\n"
     ]
    },
    {
     "name": "stdout",
     "output_type": "stream",
     "text": [
      "Finished Training\n"
     ]
    },
    {
     "name": "stderr",
     "output_type": "stream",
     "text": [
      "/home/ljp238/miniconda3/envs/agluon/lib/python3.11/site-packages/xgboost/core.py:158: UserWarning: [03:07:26] WARNING: /home/conda/feedstock_root/build_artifacts/xgboost-split_1733179637554/work/src/common/error_msg.cc:27: The tree method `gpu_hist` is deprecated since 2.0.0. To use GPU training, set the `device` parameter to CUDA instead.\n",
      "\n",
      "    E.g. tree_method = \"hist\", device = \"cuda\"\n",
      "\n",
      "  warnings.warn(smsg, UserWarning)\n",
      "/home/ljp238/miniconda3/envs/agluon/lib/python3.11/site-packages/xgboost/core.py:158: UserWarning: [03:07:26] WARNING: /home/conda/feedstock_root/build_artifacts/xgboost-split_1733179637554/work/src/c_api/c_api.cc:1374: Saving model in the UBJSON format as default.  You can use file extension: `json`, `ubj` or `deprecated` to choose between formats.\n",
      "  warnings.warn(smsg, UserWarning)\n"
     ]
    },
    {
     "name": "stdout",
     "output_type": "stream",
     "text": [
      "Model saved to /media/ljp238/12TBWolf/BRCHIEVE/TILES12/N12E103/N12E103_tdem_dem_egm_vfill5000_xgb.model\n",
      "Filled raster saved to /media/ljp238/12TBWolf/BRCHIEVE/TILES12/N12E103/N12E103_tdem_dem_egm_vfill5000.tif\n",
      "/media/ljp238/12TBWolf/BRCHIEVE/TILES12/N12E104/N12E104_tdem_dem_egm_vfill5000_xgb.model\n",
      "Training model...\n"
     ]
    },
    {
     "name": "stderr",
     "output_type": "stream",
     "text": [
      "/home/ljp238/miniconda3/envs/agluon/lib/python3.11/site-packages/xgboost/core.py:158: UserWarning: [03:07:51] WARNING: /home/conda/feedstock_root/build_artifacts/xgboost-split_1733179637554/work/src/common/error_msg.cc:27: The tree method `gpu_hist` is deprecated since 2.0.0. To use GPU training, set the `device` parameter to CUDA instead.\n",
      "\n",
      "    E.g. tree_method = \"hist\", device = \"cuda\"\n",
      "\n",
      "  warnings.warn(smsg, UserWarning)\n",
      "/home/ljp238/miniconda3/envs/agluon/lib/python3.11/site-packages/xgboost/core.py:158: UserWarning: [03:07:51] WARNING: /home/conda/feedstock_root/build_artifacts/xgboost-split_1733179637554/work/src/learner.cc:740: \n",
      "Parameters: { \"predictor\" } are not used.\n",
      "\n",
      "  warnings.warn(smsg, UserWarning)\n"
     ]
    },
    {
     "name": "stdout",
     "output_type": "stream",
     "text": [
      "Finished Training\n"
     ]
    },
    {
     "name": "stderr",
     "output_type": "stream",
     "text": [
      "/home/ljp238/miniconda3/envs/agluon/lib/python3.11/site-packages/xgboost/core.py:158: UserWarning: [03:12:17] WARNING: /home/conda/feedstock_root/build_artifacts/xgboost-split_1733179637554/work/src/common/error_msg.cc:27: The tree method `gpu_hist` is deprecated since 2.0.0. To use GPU training, set the `device` parameter to CUDA instead.\n",
      "\n",
      "    E.g. tree_method = \"hist\", device = \"cuda\"\n",
      "\n",
      "  warnings.warn(smsg, UserWarning)\n",
      "/home/ljp238/miniconda3/envs/agluon/lib/python3.11/site-packages/xgboost/core.py:158: UserWarning: [03:12:17] WARNING: /home/conda/feedstock_root/build_artifacts/xgboost-split_1733179637554/work/src/c_api/c_api.cc:1374: Saving model in the UBJSON format as default.  You can use file extension: `json`, `ubj` or `deprecated` to choose between formats.\n",
      "  warnings.warn(smsg, UserWarning)\n"
     ]
    },
    {
     "name": "stdout",
     "output_type": "stream",
     "text": [
      "Model saved to /media/ljp238/12TBWolf/BRCHIEVE/TILES12/N12E104/N12E104_tdem_dem_egm_vfill5000_xgb.model\n",
      "Filled raster saved to /media/ljp238/12TBWolf/BRCHIEVE/TILES12/N12E104/N12E104_tdem_dem_egm_vfill5000.tif\n",
      "/media/ljp238/12TBWolf/BRCHIEVE/TILES12/N12E105/N12E105_tdem_dem_egm_vfill5000_xgb.model\n",
      "Training model...\n"
     ]
    },
    {
     "name": "stderr",
     "output_type": "stream",
     "text": [
      "/home/ljp238/miniconda3/envs/agluon/lib/python3.11/site-packages/xgboost/core.py:158: UserWarning: [03:12:37] WARNING: /home/conda/feedstock_root/build_artifacts/xgboost-split_1733179637554/work/src/common/error_msg.cc:27: The tree method `gpu_hist` is deprecated since 2.0.0. To use GPU training, set the `device` parameter to CUDA instead.\n",
      "\n",
      "    E.g. tree_method = \"hist\", device = \"cuda\"\n",
      "\n",
      "  warnings.warn(smsg, UserWarning)\n",
      "/home/ljp238/miniconda3/envs/agluon/lib/python3.11/site-packages/xgboost/core.py:158: UserWarning: [03:12:37] WARNING: /home/conda/feedstock_root/build_artifacts/xgboost-split_1733179637554/work/src/learner.cc:740: \n",
      "Parameters: { \"predictor\" } are not used.\n",
      "\n",
      "  warnings.warn(smsg, UserWarning)\n"
     ]
    },
    {
     "name": "stdout",
     "output_type": "stream",
     "text": [
      "Finished Training\n"
     ]
    },
    {
     "name": "stderr",
     "output_type": "stream",
     "text": [
      "/home/ljp238/miniconda3/envs/agluon/lib/python3.11/site-packages/xgboost/core.py:158: UserWarning: [03:16:07] WARNING: /home/conda/feedstock_root/build_artifacts/xgboost-split_1733179637554/work/src/common/error_msg.cc:27: The tree method `gpu_hist` is deprecated since 2.0.0. To use GPU training, set the `device` parameter to CUDA instead.\n",
      "\n",
      "    E.g. tree_method = \"hist\", device = \"cuda\"\n",
      "\n",
      "  warnings.warn(smsg, UserWarning)\n",
      "/home/ljp238/miniconda3/envs/agluon/lib/python3.11/site-packages/xgboost/core.py:158: UserWarning: [03:16:07] WARNING: /home/conda/feedstock_root/build_artifacts/xgboost-split_1733179637554/work/src/c_api/c_api.cc:1374: Saving model in the UBJSON format as default.  You can use file extension: `json`, `ubj` or `deprecated` to choose between formats.\n",
      "  warnings.warn(smsg, UserWarning)\n"
     ]
    },
    {
     "name": "stdout",
     "output_type": "stream",
     "text": [
      "Model saved to /media/ljp238/12TBWolf/BRCHIEVE/TILES12/N12E105/N12E105_tdem_dem_egm_vfill5000_xgb.model\n",
      "Filled raster saved to /media/ljp238/12TBWolf/BRCHIEVE/TILES12/N12E105/N12E105_tdem_dem_egm_vfill5000.tif\n",
      "/media/ljp238/12TBWolf/BRCHIEVE/TILES12/N13E103/N13E103_tdem_dem_egm_vfill5000_xgb.model\n",
      "Training model...\n"
     ]
    },
    {
     "name": "stderr",
     "output_type": "stream",
     "text": [
      "/home/ljp238/miniconda3/envs/agluon/lib/python3.11/site-packages/xgboost/core.py:158: UserWarning: [03:16:34] WARNING: /home/conda/feedstock_root/build_artifacts/xgboost-split_1733179637554/work/src/common/error_msg.cc:27: The tree method `gpu_hist` is deprecated since 2.0.0. To use GPU training, set the `device` parameter to CUDA instead.\n",
      "\n",
      "    E.g. tree_method = \"hist\", device = \"cuda\"\n",
      "\n",
      "  warnings.warn(smsg, UserWarning)\n",
      "/home/ljp238/miniconda3/envs/agluon/lib/python3.11/site-packages/xgboost/core.py:158: UserWarning: [03:16:34] WARNING: /home/conda/feedstock_root/build_artifacts/xgboost-split_1733179637554/work/src/learner.cc:740: \n",
      "Parameters: { \"predictor\" } are not used.\n",
      "\n",
      "  warnings.warn(smsg, UserWarning)\n"
     ]
    },
    {
     "name": "stdout",
     "output_type": "stream",
     "text": [
      "Finished Training\n"
     ]
    },
    {
     "name": "stderr",
     "output_type": "stream",
     "text": [
      "/home/ljp238/miniconda3/envs/agluon/lib/python3.11/site-packages/xgboost/core.py:158: UserWarning: [03:21:27] WARNING: /home/conda/feedstock_root/build_artifacts/xgboost-split_1733179637554/work/src/common/error_msg.cc:27: The tree method `gpu_hist` is deprecated since 2.0.0. To use GPU training, set the `device` parameter to CUDA instead.\n",
      "\n",
      "    E.g. tree_method = \"hist\", device = \"cuda\"\n",
      "\n",
      "  warnings.warn(smsg, UserWarning)\n",
      "/home/ljp238/miniconda3/envs/agluon/lib/python3.11/site-packages/xgboost/core.py:158: UserWarning: [03:21:27] WARNING: /home/conda/feedstock_root/build_artifacts/xgboost-split_1733179637554/work/src/c_api/c_api.cc:1374: Saving model in the UBJSON format as default.  You can use file extension: `json`, `ubj` or `deprecated` to choose between formats.\n",
      "  warnings.warn(smsg, UserWarning)\n"
     ]
    },
    {
     "name": "stdout",
     "output_type": "stream",
     "text": [
      "Model saved to /media/ljp238/12TBWolf/BRCHIEVE/TILES12/N13E103/N13E103_tdem_dem_egm_vfill5000_xgb.model\n",
      "Filled raster saved to /media/ljp238/12TBWolf/BRCHIEVE/TILES12/N13E103/N13E103_tdem_dem_egm_vfill5000.tif\n",
      "/media/ljp238/12TBWolf/BRCHIEVE/TILES12/N13E104/N13E104_tdem_dem_egm_vfill5000_xgb.model\n",
      "Training model...\n"
     ]
    },
    {
     "name": "stderr",
     "output_type": "stream",
     "text": [
      "/home/ljp238/miniconda3/envs/agluon/lib/python3.11/site-packages/xgboost/core.py:158: UserWarning: [03:21:49] WARNING: /home/conda/feedstock_root/build_artifacts/xgboost-split_1733179637554/work/src/common/error_msg.cc:27: The tree method `gpu_hist` is deprecated since 2.0.0. To use GPU training, set the `device` parameter to CUDA instead.\n",
      "\n",
      "    E.g. tree_method = \"hist\", device = \"cuda\"\n",
      "\n",
      "  warnings.warn(smsg, UserWarning)\n",
      "/home/ljp238/miniconda3/envs/agluon/lib/python3.11/site-packages/xgboost/core.py:158: UserWarning: [03:21:49] WARNING: /home/conda/feedstock_root/build_artifacts/xgboost-split_1733179637554/work/src/learner.cc:740: \n",
      "Parameters: { \"predictor\" } are not used.\n",
      "\n",
      "  warnings.warn(smsg, UserWarning)\n"
     ]
    },
    {
     "name": "stdout",
     "output_type": "stream",
     "text": [
      "Finished Training\n"
     ]
    },
    {
     "name": "stderr",
     "output_type": "stream",
     "text": [
      "/home/ljp238/miniconda3/envs/agluon/lib/python3.11/site-packages/xgboost/core.py:158: UserWarning: [03:24:46] WARNING: /home/conda/feedstock_root/build_artifacts/xgboost-split_1733179637554/work/src/common/error_msg.cc:27: The tree method `gpu_hist` is deprecated since 2.0.0. To use GPU training, set the `device` parameter to CUDA instead.\n",
      "\n",
      "    E.g. tree_method = \"hist\", device = \"cuda\"\n",
      "\n",
      "  warnings.warn(smsg, UserWarning)\n",
      "/home/ljp238/miniconda3/envs/agluon/lib/python3.11/site-packages/xgboost/core.py:158: UserWarning: [03:24:46] WARNING: /home/conda/feedstock_root/build_artifacts/xgboost-split_1733179637554/work/src/c_api/c_api.cc:1374: Saving model in the UBJSON format as default.  You can use file extension: `json`, `ubj` or `deprecated` to choose between formats.\n",
      "  warnings.warn(smsg, UserWarning)\n"
     ]
    },
    {
     "name": "stdout",
     "output_type": "stream",
     "text": [
      "Model saved to /media/ljp238/12TBWolf/BRCHIEVE/TILES12/N13E104/N13E104_tdem_dem_egm_vfill5000_xgb.model\n",
      "Filled raster saved to /media/ljp238/12TBWolf/BRCHIEVE/TILES12/N13E104/N13E104_tdem_dem_egm_vfill5000.tif\n",
      "/media/ljp238/12TBWolf/BRCHIEVE/TILES12/N13E105/N13E105_tdem_dem_egm_vfill5000_xgb.model\n",
      "Training model...\n"
     ]
    },
    {
     "name": "stderr",
     "output_type": "stream",
     "text": [
      "/home/ljp238/miniconda3/envs/agluon/lib/python3.11/site-packages/xgboost/core.py:158: UserWarning: [03:25:15] WARNING: /home/conda/feedstock_root/build_artifacts/xgboost-split_1733179637554/work/src/common/error_msg.cc:27: The tree method `gpu_hist` is deprecated since 2.0.0. To use GPU training, set the `device` parameter to CUDA instead.\n",
      "\n",
      "    E.g. tree_method = \"hist\", device = \"cuda\"\n",
      "\n",
      "  warnings.warn(smsg, UserWarning)\n",
      "/home/ljp238/miniconda3/envs/agluon/lib/python3.11/site-packages/xgboost/core.py:158: UserWarning: [03:25:15] WARNING: /home/conda/feedstock_root/build_artifacts/xgboost-split_1733179637554/work/src/learner.cc:740: \n",
      "Parameters: { \"predictor\" } are not used.\n",
      "\n",
      "  warnings.warn(smsg, UserWarning)\n"
     ]
    },
    {
     "name": "stdout",
     "output_type": "stream",
     "text": [
      "Finished Training\n"
     ]
    },
    {
     "name": "stderr",
     "output_type": "stream",
     "text": [
      "/home/ljp238/miniconda3/envs/agluon/lib/python3.11/site-packages/xgboost/core.py:158: UserWarning: [03:26:45] WARNING: /home/conda/feedstock_root/build_artifacts/xgboost-split_1733179637554/work/src/common/error_msg.cc:27: The tree method `gpu_hist` is deprecated since 2.0.0. To use GPU training, set the `device` parameter to CUDA instead.\n",
      "\n",
      "    E.g. tree_method = \"hist\", device = \"cuda\"\n",
      "\n",
      "  warnings.warn(smsg, UserWarning)\n",
      "/home/ljp238/miniconda3/envs/agluon/lib/python3.11/site-packages/xgboost/core.py:158: UserWarning: [03:26:45] WARNING: /home/conda/feedstock_root/build_artifacts/xgboost-split_1733179637554/work/src/c_api/c_api.cc:1374: Saving model in the UBJSON format as default.  You can use file extension: `json`, `ubj` or `deprecated` to choose between formats.\n",
      "  warnings.warn(smsg, UserWarning)\n"
     ]
    },
    {
     "name": "stdout",
     "output_type": "stream",
     "text": [
      "Model saved to /media/ljp238/12TBWolf/BRCHIEVE/TILES12/N13E105/N13E105_tdem_dem_egm_vfill5000_xgb.model\n",
      "Filled raster saved to /media/ljp238/12TBWolf/BRCHIEVE/TILES12/N13E105/N13E105_tdem_dem_egm_vfill5000.tif\n",
      "/media/ljp238/12TBWolf/BRCHIEVE/TILES12/S01W063/S01W063_tdem_dem_egm_vfill5000_xgb.model\n",
      "Training model...\n"
     ]
    },
    {
     "name": "stderr",
     "output_type": "stream",
     "text": [
      "/home/ljp238/miniconda3/envs/agluon/lib/python3.11/site-packages/xgboost/core.py:158: UserWarning: [03:27:25] WARNING: /home/conda/feedstock_root/build_artifacts/xgboost-split_1733179637554/work/src/common/error_msg.cc:27: The tree method `gpu_hist` is deprecated since 2.0.0. To use GPU training, set the `device` parameter to CUDA instead.\n",
      "\n",
      "    E.g. tree_method = \"hist\", device = \"cuda\"\n",
      "\n",
      "  warnings.warn(smsg, UserWarning)\n",
      "/home/ljp238/miniconda3/envs/agluon/lib/python3.11/site-packages/xgboost/core.py:158: UserWarning: [03:27:25] WARNING: /home/conda/feedstock_root/build_artifacts/xgboost-split_1733179637554/work/src/learner.cc:740: \n",
      "Parameters: { \"predictor\" } are not used.\n",
      "\n",
      "  warnings.warn(smsg, UserWarning)\n"
     ]
    },
    {
     "name": "stdout",
     "output_type": "stream",
     "text": [
      "Finished Training\n"
     ]
    },
    {
     "name": "stderr",
     "output_type": "stream",
     "text": [
      "/home/ljp238/miniconda3/envs/agluon/lib/python3.11/site-packages/xgboost/core.py:158: UserWarning: [03:29:20] WARNING: /home/conda/feedstock_root/build_artifacts/xgboost-split_1733179637554/work/src/common/error_msg.cc:27: The tree method `gpu_hist` is deprecated since 2.0.0. To use GPU training, set the `device` parameter to CUDA instead.\n",
      "\n",
      "    E.g. tree_method = \"hist\", device = \"cuda\"\n",
      "\n",
      "  warnings.warn(smsg, UserWarning)\n",
      "/home/ljp238/miniconda3/envs/agluon/lib/python3.11/site-packages/xgboost/core.py:158: UserWarning: [03:29:20] WARNING: /home/conda/feedstock_root/build_artifacts/xgboost-split_1733179637554/work/src/c_api/c_api.cc:1374: Saving model in the UBJSON format as default.  You can use file extension: `json`, `ubj` or `deprecated` to choose between formats.\n",
      "  warnings.warn(smsg, UserWarning)\n"
     ]
    },
    {
     "name": "stdout",
     "output_type": "stream",
     "text": [
      "Model saved to /media/ljp238/12TBWolf/BRCHIEVE/TILES12/S01W063/S01W063_tdem_dem_egm_vfill5000_xgb.model\n",
      "Filled raster saved to /media/ljp238/12TBWolf/BRCHIEVE/TILES12/S01W063/S01W063_tdem_dem_egm_vfill5000.tif\n",
      "/media/ljp238/12TBWolf/BRCHIEVE/TILES12/S01W064/S01W064_tdem_dem_egm_vfill5000_xgb.model\n",
      "Training model...\n"
     ]
    },
    {
     "name": "stderr",
     "output_type": "stream",
     "text": [
      "/home/ljp238/miniconda3/envs/agluon/lib/python3.11/site-packages/xgboost/core.py:158: UserWarning: [03:29:56] WARNING: /home/conda/feedstock_root/build_artifacts/xgboost-split_1733179637554/work/src/common/error_msg.cc:27: The tree method `gpu_hist` is deprecated since 2.0.0. To use GPU training, set the `device` parameter to CUDA instead.\n",
      "\n",
      "    E.g. tree_method = \"hist\", device = \"cuda\"\n",
      "\n",
      "  warnings.warn(smsg, UserWarning)\n",
      "/home/ljp238/miniconda3/envs/agluon/lib/python3.11/site-packages/xgboost/core.py:158: UserWarning: [03:29:56] WARNING: /home/conda/feedstock_root/build_artifacts/xgboost-split_1733179637554/work/src/learner.cc:740: \n",
      "Parameters: { \"predictor\" } are not used.\n",
      "\n",
      "  warnings.warn(smsg, UserWarning)\n"
     ]
    },
    {
     "name": "stdout",
     "output_type": "stream",
     "text": [
      "Finished Training\n"
     ]
    },
    {
     "name": "stderr",
     "output_type": "stream",
     "text": [
      "/home/ljp238/miniconda3/envs/agluon/lib/python3.11/site-packages/xgboost/core.py:158: UserWarning: [03:32:31] WARNING: /home/conda/feedstock_root/build_artifacts/xgboost-split_1733179637554/work/src/common/error_msg.cc:27: The tree method `gpu_hist` is deprecated since 2.0.0. To use GPU training, set the `device` parameter to CUDA instead.\n",
      "\n",
      "    E.g. tree_method = \"hist\", device = \"cuda\"\n",
      "\n",
      "  warnings.warn(smsg, UserWarning)\n",
      "/home/ljp238/miniconda3/envs/agluon/lib/python3.11/site-packages/xgboost/core.py:158: UserWarning: [03:32:31] WARNING: /home/conda/feedstock_root/build_artifacts/xgboost-split_1733179637554/work/src/c_api/c_api.cc:1374: Saving model in the UBJSON format as default.  You can use file extension: `json`, `ubj` or `deprecated` to choose between formats.\n",
      "  warnings.warn(smsg, UserWarning)\n"
     ]
    },
    {
     "name": "stdout",
     "output_type": "stream",
     "text": [
      "Model saved to /media/ljp238/12TBWolf/BRCHIEVE/TILES12/S01W064/S01W064_tdem_dem_egm_vfill5000_xgb.model\n",
      "Filled raster saved to /media/ljp238/12TBWolf/BRCHIEVE/TILES12/S01W064/S01W064_tdem_dem_egm_vfill5000.tif\n",
      "/media/ljp238/12TBWolf/BRCHIEVE/TILES12/S02W063/S02W063_tdem_dem_egm_vfill5000_xgb.model\n",
      "Training model...\n"
     ]
    },
    {
     "name": "stderr",
     "output_type": "stream",
     "text": [
      "/home/ljp238/miniconda3/envs/agluon/lib/python3.11/site-packages/xgboost/core.py:158: UserWarning: [03:33:02] WARNING: /home/conda/feedstock_root/build_artifacts/xgboost-split_1733179637554/work/src/common/error_msg.cc:27: The tree method `gpu_hist` is deprecated since 2.0.0. To use GPU training, set the `device` parameter to CUDA instead.\n",
      "\n",
      "    E.g. tree_method = \"hist\", device = \"cuda\"\n",
      "\n",
      "  warnings.warn(smsg, UserWarning)\n",
      "/home/ljp238/miniconda3/envs/agluon/lib/python3.11/site-packages/xgboost/core.py:158: UserWarning: [03:33:02] WARNING: /home/conda/feedstock_root/build_artifacts/xgboost-split_1733179637554/work/src/learner.cc:740: \n",
      "Parameters: { \"predictor\" } are not used.\n",
      "\n",
      "  warnings.warn(smsg, UserWarning)\n"
     ]
    },
    {
     "name": "stdout",
     "output_type": "stream",
     "text": [
      "Finished Training\n"
     ]
    },
    {
     "name": "stderr",
     "output_type": "stream",
     "text": [
      "/home/ljp238/miniconda3/envs/agluon/lib/python3.11/site-packages/xgboost/core.py:158: UserWarning: [03:34:35] WARNING: /home/conda/feedstock_root/build_artifacts/xgboost-split_1733179637554/work/src/common/error_msg.cc:27: The tree method `gpu_hist` is deprecated since 2.0.0. To use GPU training, set the `device` parameter to CUDA instead.\n",
      "\n",
      "    E.g. tree_method = \"hist\", device = \"cuda\"\n",
      "\n",
      "  warnings.warn(smsg, UserWarning)\n",
      "/home/ljp238/miniconda3/envs/agluon/lib/python3.11/site-packages/xgboost/core.py:158: UserWarning: [03:34:35] WARNING: /home/conda/feedstock_root/build_artifacts/xgboost-split_1733179637554/work/src/c_api/c_api.cc:1374: Saving model in the UBJSON format as default.  You can use file extension: `json`, `ubj` or `deprecated` to choose between formats.\n",
      "  warnings.warn(smsg, UserWarning)\n"
     ]
    },
    {
     "name": "stdout",
     "output_type": "stream",
     "text": [
      "Model saved to /media/ljp238/12TBWolf/BRCHIEVE/TILES12/S02W063/S02W063_tdem_dem_egm_vfill5000_xgb.model\n",
      "Filled raster saved to /media/ljp238/12TBWolf/BRCHIEVE/TILES12/S02W063/S02W063_tdem_dem_egm_vfill5000.tif\n",
      "/media/ljp238/12TBWolf/BRCHIEVE/TILES12/S02W064/S02W064_tdem_dem_egm_vfill5000_xgb.model\n",
      "Training model...\n"
     ]
    },
    {
     "name": "stderr",
     "output_type": "stream",
     "text": [
      "/home/ljp238/miniconda3/envs/agluon/lib/python3.11/site-packages/xgboost/core.py:158: UserWarning: [03:35:14] WARNING: /home/conda/feedstock_root/build_artifacts/xgboost-split_1733179637554/work/src/common/error_msg.cc:27: The tree method `gpu_hist` is deprecated since 2.0.0. To use GPU training, set the `device` parameter to CUDA instead.\n",
      "\n",
      "    E.g. tree_method = \"hist\", device = \"cuda\"\n",
      "\n",
      "  warnings.warn(smsg, UserWarning)\n",
      "/home/ljp238/miniconda3/envs/agluon/lib/python3.11/site-packages/xgboost/core.py:158: UserWarning: [03:35:14] WARNING: /home/conda/feedstock_root/build_artifacts/xgboost-split_1733179637554/work/src/learner.cc:740: \n",
      "Parameters: { \"predictor\" } are not used.\n",
      "\n",
      "  warnings.warn(smsg, UserWarning)\n"
     ]
    },
    {
     "name": "stdout",
     "output_type": "stream",
     "text": [
      "Finished Training\n"
     ]
    },
    {
     "name": "stderr",
     "output_type": "stream",
     "text": [
      "/home/ljp238/miniconda3/envs/agluon/lib/python3.11/site-packages/xgboost/core.py:158: UserWarning: [03:37:06] WARNING: /home/conda/feedstock_root/build_artifacts/xgboost-split_1733179637554/work/src/common/error_msg.cc:27: The tree method `gpu_hist` is deprecated since 2.0.0. To use GPU training, set the `device` parameter to CUDA instead.\n",
      "\n",
      "    E.g. tree_method = \"hist\", device = \"cuda\"\n",
      "\n",
      "  warnings.warn(smsg, UserWarning)\n",
      "/home/ljp238/miniconda3/envs/agluon/lib/python3.11/site-packages/xgboost/core.py:158: UserWarning: [03:37:06] WARNING: /home/conda/feedstock_root/build_artifacts/xgboost-split_1733179637554/work/src/c_api/c_api.cc:1374: Saving model in the UBJSON format as default.  You can use file extension: `json`, `ubj` or `deprecated` to choose between formats.\n",
      "  warnings.warn(smsg, UserWarning)\n"
     ]
    },
    {
     "name": "stdout",
     "output_type": "stream",
     "text": [
      "Model saved to /media/ljp238/12TBWolf/BRCHIEVE/TILES12/S02W064/S02W064_tdem_dem_egm_vfill5000_xgb.model\n",
      "Filled raster saved to /media/ljp238/12TBWolf/BRCHIEVE/TILES12/S02W064/S02W064_tdem_dem_egm_vfill5000.tif\n"
     ]
    }
   ],
   "source": [
    "fs = glob(\"/media/ljp238/12TBWolf/BRCHIEVE/TILES12/*/*tdem_dem_egm_void.tif\")\n",
    "num_boost_round = 5000\n",
    "for fi in fs:\n",
    "    fo = fi.replace('void', f'vfill{num_boost_round}')\n",
    "    model = fo.replace('.tif', '_xgb.model')\n",
    "    fill_missing_values_with_xgboost(fi, fo,model,num_boost_round)"
   ]
  },
  {
   "cell_type": "code",
   "execution_count": 24,
   "metadata": {},
   "outputs": [
    {
     "data": {
      "text/plain": [
       "('/media/ljp238/12TBWolf/BRCHIEVE/TILES12/N10E105/N10E105_tdem_dem_egm_void.tif',\n",
       " '/media/ljp238/12TBWolf/BRCHIEVE/TILES12/N10E105/N10E105_tdem_dem_egm_vfill5000.tif',\n",
       " '/media/ljp238/12TBWolf/BRCHIEVE/TILES12/N10E105/N10E105_tdem_dem_egm_vfill5000_xgb.model')"
      ]
     },
     "execution_count": 24,
     "metadata": {},
     "output_type": "execute_result"
    }
   ],
   "source": [
    "fi = fn \n",
    "num_boost_round = 5000\n",
    "fo = fi.replace('void', f'vfill{num_boost_round}')\n",
    "model = fo.replace('.tif', '_xgb.model')\n",
    "\n",
    "fi,fo, model"
   ]
  },
  {
   "cell_type": "code",
   "execution_count": 25,
   "metadata": {},
   "outputs": [
    {
     "name": "stdout",
     "output_type": "stream",
     "text": [
      "/media/ljp238/12TBWolf/BRCHIEVE/TILES12/N10E105/N10E105_tdem_dem_egm_vfill5000_xgb_5000.model\n",
      "Training model...\n"
     ]
    },
    {
     "name": "stderr",
     "output_type": "stream",
     "text": [
      "/home/ljp238/miniconda3/envs/agluon/lib/python3.11/site-packages/xgboost/core.py:158: UserWarning: [02:30:47] WARNING: /home/conda/feedstock_root/build_artifacts/xgboost-split_1733179637554/work/src/common/error_msg.cc:27: The tree method `gpu_hist` is deprecated since 2.0.0. To use GPU training, set the `device` parameter to CUDA instead.\n",
      "\n",
      "    E.g. tree_method = \"hist\", device = \"cuda\"\n",
      "\n",
      "  warnings.warn(smsg, UserWarning)\n",
      "/home/ljp238/miniconda3/envs/agluon/lib/python3.11/site-packages/xgboost/core.py:158: UserWarning: [02:30:47] WARNING: /home/conda/feedstock_root/build_artifacts/xgboost-split_1733179637554/work/src/learner.cc:740: \n",
      "Parameters: { \"predictor\" } are not used.\n",
      "\n",
      "  warnings.warn(smsg, UserWarning)\n"
     ]
    },
    {
     "name": "stdout",
     "output_type": "stream",
     "text": [
      "Finished Training\n"
     ]
    },
    {
     "name": "stderr",
     "output_type": "stream",
     "text": [
      "/home/ljp238/miniconda3/envs/agluon/lib/python3.11/site-packages/xgboost/core.py:158: UserWarning: [02:35:29] WARNING: /home/conda/feedstock_root/build_artifacts/xgboost-split_1733179637554/work/src/common/error_msg.cc:27: The tree method `gpu_hist` is deprecated since 2.0.0. To use GPU training, set the `device` parameter to CUDA instead.\n",
      "\n",
      "    E.g. tree_method = \"hist\", device = \"cuda\"\n",
      "\n",
      "  warnings.warn(smsg, UserWarning)\n",
      "/home/ljp238/miniconda3/envs/agluon/lib/python3.11/site-packages/xgboost/core.py:158: UserWarning: [02:35:29] WARNING: /home/conda/feedstock_root/build_artifacts/xgboost-split_1733179637554/work/src/c_api/c_api.cc:1374: Saving model in the UBJSON format as default.  You can use file extension: `json`, `ubj` or `deprecated` to choose between formats.\n",
      "  warnings.warn(smsg, UserWarning)\n"
     ]
    },
    {
     "name": "stdout",
     "output_type": "stream",
     "text": [
      "Model saved to /media/ljp238/12TBWolf/BRCHIEVE/TILES12/N10E105/N10E105_tdem_dem_egm_vfill5000_xgb_5000.model\n",
      "Filled raster saved to /media/ljp238/12TBWolf/BRCHIEVE/TILES12/N10E105/N10E105_tdem_dem_egm_vfill5000.tif\n"
     ]
    }
   ],
   "source": [
    "fill_missing_values_with_xgboost(fi, fo,model,num_boost_round)"
   ]
  },
  {
   "cell_type": "code",
   "execution_count": 6,
   "metadata": {},
   "outputs": [
    {
     "data": {
      "text/plain": [
       "array([[  2.1365528,   1.7786465,   1.8915577, ...,   4.75403  ,\n",
       "          4.3618765,   5.1669865],\n",
       "       [  2.4263391,   2.1307611,   1.9858809, ...,   5.137808 ,\n",
       "          4.837741 ,   5.0878735],\n",
       "       [  2.1990566,   1.8647404,   1.9530945, ...,   5.3207855,\n",
       "          5.493015 ,   5.281972 ],\n",
       "       ...,\n",
       "       [362.81088  , 227.52032  , 227.52032  , ...,   2.8335152,\n",
       "          2.8335152,   2.848139 ],\n",
       "       [191.40996  , 227.52032  , 227.52032  , ...,   1.7725046,\n",
       "          1.932004 ,   2.658976 ],\n",
       "       [413.33395  , 330.65112  , 332.3492   , ...,   1.6953771,\n",
       "          1.3997669,   1.8727465]], dtype=float32)"
      ]
     },
     "execution_count": 6,
     "metadata": {},
     "output_type": "execute_result"
    }
   ],
   "source": [
    "data"
   ]
  },
  {
   "cell_type": "code",
   "execution_count": null,
   "metadata": {},
   "outputs": [],
   "source": []
  },
  {
   "cell_type": "code",
   "execution_count": null,
   "metadata": {},
   "outputs": [],
   "source": []
  },
  {
   "cell_type": "code",
   "execution_count": 4,
   "metadata": {},
   "outputs": [],
   "source": [
    "from sklearn.ensemble import RandomForestRegressor # the new pkg or ag "
   ]
  },
  {
   "cell_type": "code",
   "execution_count": null,
   "metadata": {},
   "outputs": [
    {
     "ename": "ValueError",
     "evalue": "Found array with 0 sample(s) (shape=(0, 2)) while a minimum of 1 is required by RandomForestRegressor.",
     "output_type": "error",
     "traceback": [
      "\u001b[0;31m---------------------------------------------------------------------------\u001b[0m",
      "\u001b[0;31mValueError\u001b[0m                                Traceback (most recent call last)",
      "Cell \u001b[0;32mIn[22], line 9\u001b[0m\n\u001b[1;32m      7\u001b[0m values \u001b[38;5;241m=\u001b[39m values[\u001b[38;5;241m~\u001b[39mnp\u001b[38;5;241m.\u001b[39misnan(values)]\n\u001b[1;32m      8\u001b[0m coords \u001b[38;5;241m=\u001b[39m coords[\u001b[38;5;241m~\u001b[39mnp\u001b[38;5;241m.\u001b[39misnan(values)]\n\u001b[0;32m----> 9\u001b[0m \u001b[43mmodel\u001b[49m\u001b[38;5;241;43m.\u001b[39;49m\u001b[43mfit\u001b[49m\u001b[43m(\u001b[49m\u001b[43mcoords\u001b[49m\u001b[43m,\u001b[49m\u001b[43m \u001b[49m\u001b[43mvalues\u001b[49m\u001b[43m)\u001b[49m\n\u001b[1;32m     10\u001b[0m \u001b[38;5;28mprint\u001b[39m(\u001b[38;5;124m\"\u001b[39m\u001b[38;5;124mFinished Training\u001b[39m\u001b[38;5;124m\"\u001b[39m)\n\u001b[1;32m     11\u001b[0m predicted \u001b[38;5;241m=\u001b[39m model\u001b[38;5;241m.\u001b[39mpredict(missing_coords)\n",
      "File \u001b[0;32m~/miniconda3/envs/agluon/lib/python3.11/site-packages/sklearn/base.py:1473\u001b[0m, in \u001b[0;36m_fit_context.<locals>.decorator.<locals>.wrapper\u001b[0;34m(estimator, *args, **kwargs)\u001b[0m\n\u001b[1;32m   1466\u001b[0m     estimator\u001b[38;5;241m.\u001b[39m_validate_params()\n\u001b[1;32m   1468\u001b[0m \u001b[38;5;28;01mwith\u001b[39;00m config_context(\n\u001b[1;32m   1469\u001b[0m     skip_parameter_validation\u001b[38;5;241m=\u001b[39m(\n\u001b[1;32m   1470\u001b[0m         prefer_skip_nested_validation \u001b[38;5;129;01mor\u001b[39;00m global_skip_validation\n\u001b[1;32m   1471\u001b[0m     )\n\u001b[1;32m   1472\u001b[0m ):\n\u001b[0;32m-> 1473\u001b[0m     \u001b[38;5;28;01mreturn\u001b[39;00m \u001b[43mfit_method\u001b[49m\u001b[43m(\u001b[49m\u001b[43mestimator\u001b[49m\u001b[43m,\u001b[49m\u001b[43m \u001b[49m\u001b[38;5;241;43m*\u001b[39;49m\u001b[43margs\u001b[49m\u001b[43m,\u001b[49m\u001b[43m \u001b[49m\u001b[38;5;241;43m*\u001b[39;49m\u001b[38;5;241;43m*\u001b[39;49m\u001b[43mkwargs\u001b[49m\u001b[43m)\u001b[49m\n",
      "File \u001b[0;32m~/miniconda3/envs/agluon/lib/python3.11/site-packages/sklearn/ensemble/_forest.py:363\u001b[0m, in \u001b[0;36mBaseForest.fit\u001b[0;34m(self, X, y, sample_weight)\u001b[0m\n\u001b[1;32m    360\u001b[0m \u001b[38;5;28;01mif\u001b[39;00m issparse(y):\n\u001b[1;32m    361\u001b[0m     \u001b[38;5;28;01mraise\u001b[39;00m \u001b[38;5;167;01mValueError\u001b[39;00m(\u001b[38;5;124m\"\u001b[39m\u001b[38;5;124msparse multilabel-indicator for y is not supported.\u001b[39m\u001b[38;5;124m\"\u001b[39m)\n\u001b[0;32m--> 363\u001b[0m X, y \u001b[38;5;241m=\u001b[39m \u001b[38;5;28;43mself\u001b[39;49m\u001b[38;5;241;43m.\u001b[39;49m\u001b[43m_validate_data\u001b[49m\u001b[43m(\u001b[49m\n\u001b[1;32m    364\u001b[0m \u001b[43m    \u001b[49m\u001b[43mX\u001b[49m\u001b[43m,\u001b[49m\n\u001b[1;32m    365\u001b[0m \u001b[43m    \u001b[49m\u001b[43my\u001b[49m\u001b[43m,\u001b[49m\n\u001b[1;32m    366\u001b[0m \u001b[43m    \u001b[49m\u001b[43mmulti_output\u001b[49m\u001b[38;5;241;43m=\u001b[39;49m\u001b[38;5;28;43;01mTrue\u001b[39;49;00m\u001b[43m,\u001b[49m\n\u001b[1;32m    367\u001b[0m \u001b[43m    \u001b[49m\u001b[43maccept_sparse\u001b[49m\u001b[38;5;241;43m=\u001b[39;49m\u001b[38;5;124;43m\"\u001b[39;49m\u001b[38;5;124;43mcsc\u001b[39;49m\u001b[38;5;124;43m\"\u001b[39;49m\u001b[43m,\u001b[49m\n\u001b[1;32m    368\u001b[0m \u001b[43m    \u001b[49m\u001b[43mdtype\u001b[49m\u001b[38;5;241;43m=\u001b[39;49m\u001b[43mDTYPE\u001b[49m\u001b[43m,\u001b[49m\n\u001b[1;32m    369\u001b[0m \u001b[43m    \u001b[49m\u001b[43mforce_all_finite\u001b[49m\u001b[38;5;241;43m=\u001b[39;49m\u001b[38;5;28;43;01mFalse\u001b[39;49;00m\u001b[43m,\u001b[49m\n\u001b[1;32m    370\u001b[0m \u001b[43m\u001b[49m\u001b[43m)\u001b[49m\n\u001b[1;32m    371\u001b[0m \u001b[38;5;66;03m# _compute_missing_values_in_feature_mask checks if X has missing values and\u001b[39;00m\n\u001b[1;32m    372\u001b[0m \u001b[38;5;66;03m# will raise an error if the underlying tree base estimator can't handle missing\u001b[39;00m\n\u001b[1;32m    373\u001b[0m \u001b[38;5;66;03m# values. Only the criterion is required to determine if the tree supports\u001b[39;00m\n\u001b[1;32m    374\u001b[0m \u001b[38;5;66;03m# missing values.\u001b[39;00m\n\u001b[1;32m    375\u001b[0m estimator \u001b[38;5;241m=\u001b[39m \u001b[38;5;28mtype\u001b[39m(\u001b[38;5;28mself\u001b[39m\u001b[38;5;241m.\u001b[39mestimator)(criterion\u001b[38;5;241m=\u001b[39m\u001b[38;5;28mself\u001b[39m\u001b[38;5;241m.\u001b[39mcriterion)\n",
      "File \u001b[0;32m~/miniconda3/envs/agluon/lib/python3.11/site-packages/sklearn/base.py:650\u001b[0m, in \u001b[0;36mBaseEstimator._validate_data\u001b[0;34m(self, X, y, reset, validate_separately, cast_to_ndarray, **check_params)\u001b[0m\n\u001b[1;32m    648\u001b[0m         y \u001b[38;5;241m=\u001b[39m check_array(y, input_name\u001b[38;5;241m=\u001b[39m\u001b[38;5;124m\"\u001b[39m\u001b[38;5;124my\u001b[39m\u001b[38;5;124m\"\u001b[39m, \u001b[38;5;241m*\u001b[39m\u001b[38;5;241m*\u001b[39mcheck_y_params)\n\u001b[1;32m    649\u001b[0m     \u001b[38;5;28;01melse\u001b[39;00m:\n\u001b[0;32m--> 650\u001b[0m         X, y \u001b[38;5;241m=\u001b[39m \u001b[43mcheck_X_y\u001b[49m\u001b[43m(\u001b[49m\u001b[43mX\u001b[49m\u001b[43m,\u001b[49m\u001b[43m \u001b[49m\u001b[43my\u001b[49m\u001b[43m,\u001b[49m\u001b[43m \u001b[49m\u001b[38;5;241;43m*\u001b[39;49m\u001b[38;5;241;43m*\u001b[39;49m\u001b[43mcheck_params\u001b[49m\u001b[43m)\u001b[49m\n\u001b[1;32m    651\u001b[0m     out \u001b[38;5;241m=\u001b[39m X, y\n\u001b[1;32m    653\u001b[0m \u001b[38;5;28;01mif\u001b[39;00m \u001b[38;5;129;01mnot\u001b[39;00m no_val_X \u001b[38;5;129;01mand\u001b[39;00m check_params\u001b[38;5;241m.\u001b[39mget(\u001b[38;5;124m\"\u001b[39m\u001b[38;5;124mensure_2d\u001b[39m\u001b[38;5;124m\"\u001b[39m, \u001b[38;5;28;01mTrue\u001b[39;00m):\n",
      "File \u001b[0;32m~/miniconda3/envs/agluon/lib/python3.11/site-packages/sklearn/utils/validation.py:1301\u001b[0m, in \u001b[0;36mcheck_X_y\u001b[0;34m(X, y, accept_sparse, accept_large_sparse, dtype, order, copy, force_writeable, force_all_finite, ensure_2d, allow_nd, multi_output, ensure_min_samples, ensure_min_features, y_numeric, estimator)\u001b[0m\n\u001b[1;32m   1296\u001b[0m         estimator_name \u001b[38;5;241m=\u001b[39m _check_estimator_name(estimator)\n\u001b[1;32m   1297\u001b[0m     \u001b[38;5;28;01mraise\u001b[39;00m \u001b[38;5;167;01mValueError\u001b[39;00m(\n\u001b[1;32m   1298\u001b[0m         \u001b[38;5;124mf\u001b[39m\u001b[38;5;124m\"\u001b[39m\u001b[38;5;132;01m{\u001b[39;00mestimator_name\u001b[38;5;132;01m}\u001b[39;00m\u001b[38;5;124m requires y to be passed, but the target y is None\u001b[39m\u001b[38;5;124m\"\u001b[39m\n\u001b[1;32m   1299\u001b[0m     )\n\u001b[0;32m-> 1301\u001b[0m X \u001b[38;5;241m=\u001b[39m \u001b[43mcheck_array\u001b[49m\u001b[43m(\u001b[49m\n\u001b[1;32m   1302\u001b[0m \u001b[43m    \u001b[49m\u001b[43mX\u001b[49m\u001b[43m,\u001b[49m\n\u001b[1;32m   1303\u001b[0m \u001b[43m    \u001b[49m\u001b[43maccept_sparse\u001b[49m\u001b[38;5;241;43m=\u001b[39;49m\u001b[43maccept_sparse\u001b[49m\u001b[43m,\u001b[49m\n\u001b[1;32m   1304\u001b[0m \u001b[43m    \u001b[49m\u001b[43maccept_large_sparse\u001b[49m\u001b[38;5;241;43m=\u001b[39;49m\u001b[43maccept_large_sparse\u001b[49m\u001b[43m,\u001b[49m\n\u001b[1;32m   1305\u001b[0m \u001b[43m    \u001b[49m\u001b[43mdtype\u001b[49m\u001b[38;5;241;43m=\u001b[39;49m\u001b[43mdtype\u001b[49m\u001b[43m,\u001b[49m\n\u001b[1;32m   1306\u001b[0m \u001b[43m    \u001b[49m\u001b[43morder\u001b[49m\u001b[38;5;241;43m=\u001b[39;49m\u001b[43morder\u001b[49m\u001b[43m,\u001b[49m\n\u001b[1;32m   1307\u001b[0m \u001b[43m    \u001b[49m\u001b[43mcopy\u001b[49m\u001b[38;5;241;43m=\u001b[39;49m\u001b[43mcopy\u001b[49m\u001b[43m,\u001b[49m\n\u001b[1;32m   1308\u001b[0m \u001b[43m    \u001b[49m\u001b[43mforce_writeable\u001b[49m\u001b[38;5;241;43m=\u001b[39;49m\u001b[43mforce_writeable\u001b[49m\u001b[43m,\u001b[49m\n\u001b[1;32m   1309\u001b[0m \u001b[43m    \u001b[49m\u001b[43mforce_all_finite\u001b[49m\u001b[38;5;241;43m=\u001b[39;49m\u001b[43mforce_all_finite\u001b[49m\u001b[43m,\u001b[49m\n\u001b[1;32m   1310\u001b[0m \u001b[43m    \u001b[49m\u001b[43mensure_2d\u001b[49m\u001b[38;5;241;43m=\u001b[39;49m\u001b[43mensure_2d\u001b[49m\u001b[43m,\u001b[49m\n\u001b[1;32m   1311\u001b[0m \u001b[43m    \u001b[49m\u001b[43mallow_nd\u001b[49m\u001b[38;5;241;43m=\u001b[39;49m\u001b[43mallow_nd\u001b[49m\u001b[43m,\u001b[49m\n\u001b[1;32m   1312\u001b[0m \u001b[43m    \u001b[49m\u001b[43mensure_min_samples\u001b[49m\u001b[38;5;241;43m=\u001b[39;49m\u001b[43mensure_min_samples\u001b[49m\u001b[43m,\u001b[49m\n\u001b[1;32m   1313\u001b[0m \u001b[43m    \u001b[49m\u001b[43mensure_min_features\u001b[49m\u001b[38;5;241;43m=\u001b[39;49m\u001b[43mensure_min_features\u001b[49m\u001b[43m,\u001b[49m\n\u001b[1;32m   1314\u001b[0m \u001b[43m    \u001b[49m\u001b[43mestimator\u001b[49m\u001b[38;5;241;43m=\u001b[39;49m\u001b[43mestimator\u001b[49m\u001b[43m,\u001b[49m\n\u001b[1;32m   1315\u001b[0m \u001b[43m    \u001b[49m\u001b[43minput_name\u001b[49m\u001b[38;5;241;43m=\u001b[39;49m\u001b[38;5;124;43m\"\u001b[39;49m\u001b[38;5;124;43mX\u001b[39;49m\u001b[38;5;124;43m\"\u001b[39;49m\u001b[43m,\u001b[49m\n\u001b[1;32m   1316\u001b[0m \u001b[43m\u001b[49m\u001b[43m)\u001b[49m\n\u001b[1;32m   1318\u001b[0m y \u001b[38;5;241m=\u001b[39m _check_y(y, multi_output\u001b[38;5;241m=\u001b[39mmulti_output, y_numeric\u001b[38;5;241m=\u001b[39my_numeric, estimator\u001b[38;5;241m=\u001b[39mestimator)\n\u001b[1;32m   1320\u001b[0m check_consistent_length(X, y)\n",
      "File \u001b[0;32m~/miniconda3/envs/agluon/lib/python3.11/site-packages/sklearn/utils/validation.py:1087\u001b[0m, in \u001b[0;36mcheck_array\u001b[0;34m(array, accept_sparse, accept_large_sparse, dtype, order, copy, force_writeable, force_all_finite, ensure_2d, allow_nd, ensure_min_samples, ensure_min_features, estimator, input_name)\u001b[0m\n\u001b[1;32m   1085\u001b[0m     n_samples \u001b[38;5;241m=\u001b[39m _num_samples(array)\n\u001b[1;32m   1086\u001b[0m     \u001b[38;5;28;01mif\u001b[39;00m n_samples \u001b[38;5;241m<\u001b[39m ensure_min_samples:\n\u001b[0;32m-> 1087\u001b[0m         \u001b[38;5;28;01mraise\u001b[39;00m \u001b[38;5;167;01mValueError\u001b[39;00m(\n\u001b[1;32m   1088\u001b[0m             \u001b[38;5;124m\"\u001b[39m\u001b[38;5;124mFound array with \u001b[39m\u001b[38;5;132;01m%d\u001b[39;00m\u001b[38;5;124m sample(s) (shape=\u001b[39m\u001b[38;5;132;01m%s\u001b[39;00m\u001b[38;5;124m) while a\u001b[39m\u001b[38;5;124m\"\u001b[39m\n\u001b[1;32m   1089\u001b[0m             \u001b[38;5;124m\"\u001b[39m\u001b[38;5;124m minimum of \u001b[39m\u001b[38;5;132;01m%d\u001b[39;00m\u001b[38;5;124m is required\u001b[39m\u001b[38;5;132;01m%s\u001b[39;00m\u001b[38;5;124m.\u001b[39m\u001b[38;5;124m\"\u001b[39m\n\u001b[1;32m   1090\u001b[0m             \u001b[38;5;241m%\u001b[39m (n_samples, array\u001b[38;5;241m.\u001b[39mshape, ensure_min_samples, context)\n\u001b[1;32m   1091\u001b[0m         )\n\u001b[1;32m   1093\u001b[0m \u001b[38;5;28;01mif\u001b[39;00m ensure_min_features \u001b[38;5;241m>\u001b[39m \u001b[38;5;241m0\u001b[39m \u001b[38;5;129;01mand\u001b[39;00m array\u001b[38;5;241m.\u001b[39mndim \u001b[38;5;241m==\u001b[39m \u001b[38;5;241m2\u001b[39m:\n\u001b[1;32m   1094\u001b[0m     n_features \u001b[38;5;241m=\u001b[39m array\u001b[38;5;241m.\u001b[39mshape[\u001b[38;5;241m1\u001b[39m]\n",
      "\u001b[0;31mValueError\u001b[0m: Found array with 0 sample(s) (shape=(0, 2)) while a minimum of 1 is required by RandomForestRegressor."
     ]
    }
   ],
   "source": [
    "data = read_dem(fn) # use esa here \n",
    "mask = get_null_mask(data)\n",
    "coords = np.array(np.nonzero(mask)).T\n",
    "values = data[mask]\n",
    "missing_coords = np.array(np.nonzero(~mask)).T\n",
    "model = RandomForestRegressor()\n",
    "values = values[~np.isnan(values)]\n",
    "coords = coords[~np.isnan(values)]\n",
    "model.fit(coords, values)\n",
    "print(\"Finished Training\")\n",
    "predicted = model.predict(missing_coords)\n",
    "data[~mask] = predicted\n",
    "# modify the code so that the mode is fiitted outside of missing_coords and missing values\n",
    "# use where we have the values, and the corresponginh correinates\n",
    "# and the make predicions only on the missing part, and join it with the full data"
   ]
  },
  {
   "cell_type": "code",
   "execution_count": null,
   "metadata": {},
   "outputs": [],
   "source": [
    "import numpy as np\n",
    "from sklearn.ensemble import RandomForestRegressor\n",
    "\n",
    "# Assuming read_dem and get_null_mask are already defined\n",
    "data = read_dem(fn)  # Read DEM data\n",
    "mask = get_null_mask(data)  # Get mask for null/missing values\n",
    "\n",
    "# Coordinates and values where data is available\n",
    "available_coords = np.array(np.nonzero(~mask)).T  # Coordinates where data is available\n",
    "available_values = data[~mask]  # Values where data is available\n",
    "\n",
    "# Coordinates where data is missing\n",
    "missing_coords = np.array(np.nonzero(mask)).T  # Coordinates where data is missing\n",
    "\n",
    "# Remove NaN values from available data\n",
    "valid_mask = ~np.isnan(available_values)\n",
    "available_coords = available_coords[valid_mask]\n",
    "available_values = available_values[valid_mask]\n",
    "\n",
    "# Train the model on available data\n",
    "model = RandomForestRegressor()\n",
    "model.fit(available_coords, available_values)\n",
    "print(\"Finished Training\")\n",
    "\n",
    "# Predict missing values\n",
    "predicted_values = model.predict(missing_coords)\n",
    "\n",
    "# Fill the missing values in the original data\n",
    "data[mask] = predicted_values\n",
    "\n",
    "# Now `data` contains the original values plus the predicted values for the missing parts"
   ]
  },
  {
   "cell_type": "code",
   "execution_count": null,
   "metadata": {},
   "outputs": [],
   "source": []
  }
 ],
 "metadata": {
  "kernelspec": {
   "display_name": "agluon",
   "language": "python",
   "name": "python3"
  },
  "language_info": {
   "codemirror_mode": {
    "name": "ipython",
    "version": 3
   },
   "file_extension": ".py",
   "mimetype": "text/x-python",
   "name": "python",
   "nbconvert_exporter": "python",
   "pygments_lexer": "ipython3",
   "version": "3.11.11"
  }
 },
 "nbformat": 4,
 "nbformat_minor": 2
}
