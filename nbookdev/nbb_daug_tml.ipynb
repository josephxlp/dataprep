{
 "cells": [
  {
   "cell_type": "markdown",
   "id": "6b2ea419",
   "metadata": {},
   "source": [
    "1. data [x]\n",
    "    - get the vrts for esa,ldar,s1,edem [x]\n",
    "    - get the tifs from tls and rng [x]\n",
    "\n",
    "2. datapre [x]\n",
    "    - clip by bbox [x] \n",
    "    - split train from test (cpu modelling continual ml?) [x]\n",
    "\n",
    "3. datamod [tab][+]\n",
    "    - step 1: predit ldem [x]\n",
    "    - step 2: get scores :\n",
    "        -    with residual [x]\n",
    "        -  without residual [+]\n",
    "    - step 3: style transfer [x]: not impactfull at this scale. maybe at step 4\n",
    "    - step 4: expand prediction range by N pixels same model [-]\n",
    "    - step 5: data fusion with ldem [-]\n",
    "4. datamod [img]"
   ]
  },
  {
   "cell_type": "code",
   "execution_count": 1,
   "id": "422681dd",
   "metadata": {},
   "outputs": [],
   "source": [
    "import os\n",
    "from glob import glob\n",
    "from daug import daug_isolate_data_by_bbox"
   ]
  },
  {
   "cell_type": "code",
   "execution_count": 2,
   "id": "d679c765",
   "metadata": {},
   "outputs": [
    {
     "name": "stdout",
     "output_type": "stream",
     "text": [
      "0...10...20...30...40...50...60...70...80...90...100 - done.\n"
     ]
    }
   ],
   "source": [
    "outdir4749 =  \"/media/ljp238/12TBWolf/ARCHIEVE/LIDAR_DTM/reproj4749\"  \n",
    "ldem_vrt = f\"{outdir4749}/ldem.vrt\"\n",
    "cmd = f\"gdalbuildvrt -overwrite {ldem_vrt} {outdir4749}/*.tif\"\n",
    "os.system(cmd)\n",
    "\n",
    "esawc_vrt = \"/media/ljp238/12TBWolf/ARCHIEVE/ARCHIVE_VRT/esawc/esawc.vrt\"\n",
    "s1_vrt = \"/media/ljp238/12TBWolf/ARCHIEVE/ARCHIVE_VRT/s1/s1.vrt\"\n",
    "edem_egm_vrt = \"/media/ljp238/12TBWolf/ARCHIEVE/ARCHIVE_VRT/edem_egm/edem_egm.vrt\" \n",
    "\n",
    "tls_fn = \"/media/ljp238/12TBWolf/ARCHIEVE/LIDAR_DTM/reproj4749/AngkorDTM50cm.tif\"\n",
    "rng_files = glob(\"/media/ljp238/12TBWolf/ARCHIEVE/LIDAR_DTM/reproj4749/*.tif\")\n",
    "rgn_files = [f for f in rng_files if \"AngkorDTM50cm\" not in f and \"delta_s_m2070\" not in f]\n",
    "\n",
    "vrt_files = [esawc_vrt, s1_vrt,edem_egm_vrt, ldem_vrt] # these are the vrt files \n",
    "temp_dir = 'temp'\n",
    "os.makedirs(temp_dir, exist_ok=True)"
   ]
  },
  {
   "cell_type": "code",
   "execution_count": 3,
   "id": "59f1681d",
   "metadata": {},
   "outputs": [
    {
     "name": "stdout",
     "output_type": "stream",
     "text": [
      "Reference GeoTIFF: /media/ljp238/12TBWolf/ARCHIEVE/LIDAR_DTM/reproj4749/AngkorDTM50cm.tif\n",
      "  Bounding box: BoundingBox(left=103.73573115613353, bottom=13.317802380912203, right=103.99762004502242, top=13.47535793646776)\n",
      "  Transform: | 0.00, 0.00, 103.74|\n",
      "| 0.00,-0.00, 13.48|\n",
      "| 0.00, 0.00, 1.00|\n",
      "  Width: 2357, Height: 1418\n",
      "\n",
      "Processing /media/ljp238/12TBWolf/ARCHIEVE/ARCHIVE_VRT/esawc/esawc.vrt...\n",
      "  Saved aligned data to temp/aligned_esawc.tif\n",
      "\n",
      "Processing /media/ljp238/12TBWolf/ARCHIEVE/ARCHIVE_VRT/s1/s1.vrt...\n",
      "  Saved aligned data to temp/aligned_s1.tif\n",
      "\n",
      "Processing /media/ljp238/12TBWolf/ARCHIEVE/ARCHIVE_VRT/edem_egm/edem_egm.vrt...\n",
      "  Saved aligned data to temp/aligned_edem_egm.tif\n",
      "\n",
      "Processing /media/ljp238/12TBWolf/ARCHIEVE/LIDAR_DTM/reproj4749/ldem.vrt...\n",
      "  Saved aligned data to temp/aligned_ldem.tif\n"
     ]
    }
   ],
   "source": [
    "ylist,nlist = daug_isolate_data_by_bbox(tls_fn, vrt_files, temp_dir)"
   ]
  },
  {
   "cell_type": "code",
   "execution_count": 5,
   "id": "bb68b791",
   "metadata": {},
   "outputs": [
    {
     "name": "stderr",
     "output_type": "stream",
     "text": [
      "2025-04-29 02:46:11,627 - INFO - Reading DEM from: temp/aligned_ldem.tif\n",
      "2025-04-29 02:46:11,679 - INFO - Reading GeoTIFF: temp/aligned_edem_egm.tif\n"
     ]
    },
    {
     "name": "stderr",
     "output_type": "stream",
     "text": [
      "2025-04-29 02:46:11,706 - INFO - Reading GeoTIFF: temp/aligned_s1.tif\n",
      "2025-04-29 02:46:11,767 - INFO - Reading GeoTIFF: temp/aligned_esawc.tif\n",
      "2025-04-29 02:46:11,774 - INFO - Applying mask to data\n",
      "2025-04-29 02:46:11,779 - INFO - Applying mask to data\n",
      "2025-04-29 02:46:11,793 - INFO - Applying mask to data\n",
      "2025-04-29 02:46:11,812 - INFO - Applying mask to data\n",
      "2025-04-29 02:46:12,240 - INFO - Training CatBoost model...\n"
     ]
    },
    {
     "name": "stdout",
     "output_type": "stream",
     "text": [
      "0:\tlearn: 7.0165000\ttotal: 85.2ms\tremaining: 1m 25s\n",
      "100:\tlearn: 2.7999378\ttotal: 5.9s\tremaining: 52.5s\n",
      "200:\tlearn: 2.6948879\ttotal: 11.2s\tremaining: 44.5s\n",
      "300:\tlearn: 2.6604480\ttotal: 16.6s\tremaining: 38.5s\n",
      "400:\tlearn: 2.6354505\ttotal: 22s\tremaining: 32.9s\n",
      "500:\tlearn: 2.6191455\ttotal: 27.5s\tremaining: 27.4s\n",
      "600:\tlearn: 2.6051187\ttotal: 33.1s\tremaining: 22s\n",
      "700:\tlearn: 2.5943860\ttotal: 38.5s\tremaining: 16.4s\n",
      "800:\tlearn: 2.5845746\ttotal: 44.1s\tremaining: 11s\n",
      "900:\tlearn: 2.5752458\ttotal: 49.7s\tremaining: 5.46s\n"
     ]
    },
    {
     "name": "stderr",
     "output_type": "stream",
     "text": [
      "2025-04-29 02:47:11,567 - INFO - Evaluating model...\n"
     ]
    },
    {
     "name": "stdout",
     "output_type": "stream",
     "text": [
      "999:\tlearn: 2.5673689\ttotal: 55.3s\tremaining: 0us\n"
     ]
    },
    {
     "name": "stderr",
     "output_type": "stream",
     "text": [
      "2025-04-29 02:47:11,841 - INFO - --- LDEM ---\n",
      "2025-04-29 02:47:11,842 - INFO - RMSE: 1.8637\n",
      "2025-04-29 02:47:11,843 - INFO - R²:   0.8858\n",
      "2025-04-29 02:47:11,844 - INFO - --- ZDIFF ---\n",
      "2025-04-29 02:47:11,845 - INFO - RMSE: 1.8040\n",
      "2025-04-29 02:47:11,846 - INFO - R²:   0.8467\n",
      "2025-04-29 02:47:11,847 - INFO - Predicting full image...\n",
      "2025-04-29 02:47:12,811 - INFO - Saving GeoTIFF to: temp/predicted_di.tif\n",
      "2025-04-29 02:47:12,879 - INFO - Saving GeoTIFF to: temp/predicted_id.tif\n",
      "2025-04-29 02:47:12,934 - INFO - Processing complete.\n"
     ]
    }
   ],
   "source": [
    "topoxcale_dir = \"/home/ljp238/Documents/UoE/topoxcale/\"\n",
    "import sys \n",
    "sys.path.append(topoxcale_dir)\n",
    "from topoxcale.sagaxcale import gwrdownxcale\n",
    "\n",
    "import numpy as np\n",
    "import rasterio\n",
    "import logging\n",
    "from sklearn.model_selection import train_test_split\n",
    "from catboost import CatBoostRegressor\n",
    "from sklearn.metrics import root_mean_squared_error, r2_score\n",
    "\n",
    "# Set up logging\n",
    "logging.basicConfig(level=logging.INFO, format='%(asctime)s - %(levelname)s - %(message)s')\n",
    "logger = logging.getLogger()\n",
    "\n",
    "# --- Step 1: Helper Functions --- \n",
    "\n",
    "def read_dem(fpath, lval, hval, band=1):\n",
    "    \"\"\"Reads DEM from GeoTIFF, applies valid data mask, and filters values based on provided thresholds.\"\"\"\n",
    "    logger.info(f\"Reading DEM from: {fpath}\")\n",
    "    try:\n",
    "        with rasterio.open(fpath) as src:\n",
    "            data = src.read(band).astype(np.float32)  # Read specific band\n",
    "            ndv = src.nodata\n",
    "\n",
    "            # Build the valid data mask\n",
    "            mask = np.ones_like(data, dtype=bool)\n",
    "            if ndv is not None:\n",
    "                mask &= (data != ndv)\n",
    "            mask &= (data > lval) & (data < hval)\n",
    "\n",
    "            # Apply mask: set invalid pixels to np.nan\n",
    "            filtered_data = np.where(mask, data, np.nan)\n",
    "            return filtered_data, mask, src\n",
    "    except Exception as e:\n",
    "        logger.error(f\"Error reading DEM: {e}\")\n",
    "        raise\n",
    "\n",
    "def read_geotiff(file_path):\n",
    "    \"\"\"Reads a GeoTIFF file and returns its data and dataset.\"\"\"\n",
    "    logger.info(f\"Reading GeoTIFF: {file_path}\")\n",
    "    try:\n",
    "        with rasterio.open(file_path) as dataset:\n",
    "            data = dataset.read()\n",
    "            return data, dataset\n",
    "    except Exception as e:\n",
    "        logger.error(f\"Error reading GeoTIFF: {e}\")\n",
    "        raise\n",
    "\n",
    "def apply_mask(data, mask, band=0):\n",
    "    \"\"\"Applies a mask to a dataset (multi-band) to exclude invalid pixels.\"\"\"\n",
    "    logger.info(\"Applying mask to data\")\n",
    "    return np.where(mask, data[band] if data.ndim == 3 else data, np.nan)\n",
    "\n",
    "def save_geotiff(output_path, array, reference_src, nodata_value=None):\n",
    "    \"\"\"Saves a numpy array as a GeoTIFF using spatial properties from a reference raster.\"\"\"\n",
    "    logger.info(f\"Saving GeoTIFF to: {output_path}\")\n",
    "    try:\n",
    "        if nodata_value is not None:\n",
    "            array = np.nan_to_num(array, nan=nodata_value)\n",
    "\n",
    "        with rasterio.open(\n",
    "            output_path,\n",
    "            'w',\n",
    "            driver='GTiff',\n",
    "            height=array.shape[0],\n",
    "            width=array.shape[1],\n",
    "            count=1,\n",
    "            dtype=array.dtype,\n",
    "            crs=reference_src.crs,\n",
    "            transform=reference_src.transform,\n",
    "            nodata=nodata_value\n",
    "        ) as dst:\n",
    "            dst.write(array, 1)  # Write to first band\n",
    "    except Exception as e:\n",
    "        logger.error(f\"Error saving GeoTIFF: {e}\")\n",
    "        raise\n",
    "\n",
    "# --- Step 2: Main Code Execution ---\n",
    "\n",
    "# File paths and threshold values\n",
    "lval, hval = -99, 9000\n",
    "\n",
    "# Read datasets\n",
    "ldem, mask, ldem_src = read_dem('temp/aligned_ldem.tif', lval=lval, hval=hval)\n",
    "edem, edem_src = read_geotiff('temp/aligned_edem_egm.tif')\n",
    "s1, s1_src = read_geotiff('temp/aligned_s1.tif')\n",
    "esa, esa_src = read_geotiff('temp/aligned_esawc.tif')\n",
    "\n",
    "# Apply masks to each dataset\n",
    "edem_masked = apply_mask(edem, mask)\n",
    "esa_masked = apply_mask(esa, mask)\n",
    "s1_vv_masked = apply_mask(s1, mask, band=0)\n",
    "s1_vh_masked = apply_mask(s1, mask, band=1)\n",
    "ldem_masked = np.where(mask, ldem, np.nan)\n",
    "\n",
    "# Compute difference\n",
    "zdif_masked = edem_masked - ldem_masked\n",
    "\n",
    "# Stack input features\n",
    "X_stack = np.stack([edem_masked, esa_masked, s1_vv_masked, s1_vh_masked], axis=0)\n",
    "\n",
    "# Flatten features and targets\n",
    "X_flat = X_stack.reshape(4, -1).T  # (n_samples, 4)\n",
    "Y1_flat = ldem_masked.flatten()    # (n_samples,)\n",
    "Y2_flat = zdif_masked.flatten()\n",
    "\n",
    "# Keep only valid (non-NaN) samples\n",
    "valid_mask = ~np.isnan(X_flat).any(axis=1) & ~np.isnan(Y1_flat) & ~np.isnan(Y2_flat)\n",
    "X_final = X_flat[valid_mask]\n",
    "Y_final = np.stack([Y1_flat[valid_mask], Y2_flat[valid_mask]], axis=1)  # (n_samples, 2)\n",
    "\n",
    "# Split into train/test (90% train, 10% test)\n",
    "X_train, X_test, Y_train, Y_test = train_test_split(X_final, Y_final, test_size=0.1, random_state=42, shuffle=True)\n",
    "\n",
    "# --- Step 3: Train CatBoost Model (Multi-target) ---\n",
    "logger.info(\"Training CatBoost model...\")\n",
    "model = CatBoostRegressor(\n",
    "    iterations=1000,\n",
    "    #learning_rate=0.05,\n",
    "    #depth=6,\n",
    "    loss_function='MultiRMSE',\n",
    "    verbose=100\n",
    ")\n",
    "model.fit(X_train, Y_train)\n",
    "\n",
    "# --- Step 4: Evaluate Model ---\n",
    "logger.info(\"Evaluating model...\")\n",
    "Y_pred = model.predict(X_test)\n",
    "\n",
    "metrics = {}\n",
    "for i, target_name in enumerate(['LDEM', 'ZDIFF']):\n",
    "    rmse = root_mean_squared_error(Y_test[:, i], Y_pred[:, i])\n",
    "    r2 = r2_score(Y_test[:, i], Y_pred[:, i])\n",
    "    metrics[target_name] = {'RMSE': rmse, 'R2': r2}\n",
    "\n",
    "# Print evaluation results\n",
    "for target, scores in metrics.items():\n",
    "    logger.info(f\"--- {target} ---\")\n",
    "    logger.info(f\"RMSE: {scores['RMSE']:.4f}\")\n",
    "    logger.info(f\"R²:   {scores['R2']:.4f}\")\n",
    "\n",
    "# --- Step 5: Predict Full Image (using Unmasked Features) ---\n",
    "logger.info(\"Predicting full image...\")\n",
    "edem_unmasked = edem[0] if edem.ndim == 3 else edem\n",
    "esa_unmasked = esa[0] if esa.ndim == 3 else esa\n",
    "s1_vv_unmasked = s1[0]\n",
    "s1_vh_unmasked = s1[1]\n",
    "\n",
    "# Stack full feature arrays\n",
    "X_full_stack = np.stack([edem_unmasked, esa_unmasked, s1_vv_unmasked, s1_vh_unmasked], axis=0)\n",
    "\n",
    "# Flatten for prediction\n",
    "X_full_flat = X_full_stack.reshape(4, -1).T  # (n_pixels, 4)\n",
    "\n",
    "# Predict\n",
    "Y_full_pred = model.predict(X_full_flat)\n",
    "\n",
    "# Reshape back to image\n",
    "H, W = edem_unmasked.shape\n",
    "Y1_pred_map = Y_full_pred[:, 0].reshape(H, W)  # Predicted LDEM\n",
    "Y2_pred_map = Y_full_pred[:, 1].reshape(H, W)  # Predicted ZDIFF\n",
    "\n",
    "# Prepare final prediction images\n",
    "pred_di = np.nan_to_num(Y1_pred_map, nan=-9999)\n",
    "pred_id = np.nan_to_num(edem_unmasked - Y2_pred_map, nan=-9999)\n",
    "\n",
    "# Save predicted outputs as GeoTIFF\n",
    "save_geotiff('temp/predicted_di.tif', pred_di, edem_src, nodata_value=-9999)\n",
    "save_geotiff('temp/predicted_id.tif', pred_id, edem_src, nodata_value=-9999)\n",
    "\n",
    "# Optional postprocessing\n",
    "postprocessing = False\n",
    "if postprocessing:\n",
    "    xpath = \"temp/aligned_edem_egm.tif\"\n",
    "    ypath = \"temp/predicted_di.tif\"\n",
    "    opath = \"temp/predicted_di_wr.tif\"\n",
    "    gwrdownxcale(xpath, ypath, opath, oaux=False, epsg_code=4979, clean=True)\n",
    "\n",
    "logger.info(\"Processing complete.\")\n"
   ]
  },
  {
   "cell_type": "code",
   "execution_count": 53,
   "id": "35854314",
   "metadata": {},
   "outputs": [],
   "source": [
    "# style transfer here @GWR, ML [ready this functions]\n",
    "### do from topoxcale GWR for now []\n",
    "# merging/blending [ml version]"
   ]
  },
  {
   "cell_type": "markdown",
   "id": "f99049aa",
   "metadata": {},
   "source": [
    "do this pipeline with image models??"
   ]
  },
  {
   "cell_type": "code",
   "execution_count": 6,
   "id": "0ef9ccc1",
   "metadata": {},
   "outputs": [],
   "source": [
    "# give ldem,predicted, dsm pick min pixel across all 3 dems per pixels to build final product\n",
    "# thresholds apply , and the orther apply like listed above"
   ]
  },
  {
   "cell_type": "code",
   "execution_count": null,
   "id": "1b1f6f8d",
   "metadata": {},
   "outputs": [],
   "source": []
  }
 ],
 "metadata": {
  "kernelspec": {
   "display_name": "agluon",
   "language": "python",
   "name": "python3"
  },
  "language_info": {
   "codemirror_mode": {
    "name": "ipython",
    "version": 3
   },
   "file_extension": ".py",
   "mimetype": "text/x-python",
   "name": "python",
   "nbconvert_exporter": "python",
   "pygments_lexer": "ipython3",
   "version": "3.11.11"
  }
 },
 "nbformat": 4,
 "nbformat_minor": 5
}
